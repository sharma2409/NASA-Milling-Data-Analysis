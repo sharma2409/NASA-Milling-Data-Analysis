{
 "cells": [
  {
   "cell_type": "markdown",
   "id": "70c24564",
   "metadata": {},
   "source": [
    "Import pandas library in order to read the dataset from the .CSV file"
   ]
  },
  {
   "cell_type": "code",
   "execution_count": 1,
   "id": "a31e2a02",
   "metadata": {},
   "outputs": [],
   "source": [
    " import pandas as pd"
   ]
  },
  {
   "cell_type": "markdown",
   "id": "2ac25419",
   "metadata": {},
   "source": [
    "Let's read the dataset and see what the first few values look like"
   ]
  },
  {
   "cell_type": "code",
   "execution_count": 2,
   "id": "c4ea7764",
   "metadata": {},
   "outputs": [
    {
     "data": {
      "text/html": [
       "<div>\n",
       "<style scoped>\n",
       "    .dataframe tbody tr th:only-of-type {\n",
       "        vertical-align: middle;\n",
       "    }\n",
       "\n",
       "    .dataframe tbody tr th {\n",
       "        vertical-align: top;\n",
       "    }\n",
       "\n",
       "    .dataframe thead th {\n",
       "        text-align: right;\n",
       "    }\n",
       "</style>\n",
       "<table border=\"1\" class=\"dataframe\">\n",
       "  <thead>\n",
       "    <tr style=\"text-align: right;\">\n",
       "      <th></th>\n",
       "      <th>Unnamed: 0</th>\n",
       "      <th>case</th>\n",
       "      <th>run</th>\n",
       "      <th>VB</th>\n",
       "      <th>time</th>\n",
       "      <th>DOC</th>\n",
       "      <th>feed</th>\n",
       "      <th>material</th>\n",
       "      <th>smcAC</th>\n",
       "      <th>smcDC</th>\n",
       "      <th>vib_table</th>\n",
       "      <th>vib_spindle</th>\n",
       "      <th>AE_table</th>\n",
       "      <th>AE_spindle</th>\n",
       "    </tr>\n",
       "  </thead>\n",
       "  <tbody>\n",
       "    <tr>\n",
       "      <th>0</th>\n",
       "      <td>row_0</td>\n",
       "      <td>1</td>\n",
       "      <td>1</td>\n",
       "      <td>0.00</td>\n",
       "      <td>2</td>\n",
       "      <td>1.5</td>\n",
       "      <td>0.5</td>\n",
       "      <td>1</td>\n",
       "      <td>-0.017090</td>\n",
       "      <td>0.625000</td>\n",
       "      <td>0.078125</td>\n",
       "      <td>0.314941</td>\n",
       "      <td>0.087280</td>\n",
       "      <td>0.103760</td>\n",
       "    </tr>\n",
       "    <tr>\n",
       "      <th>1</th>\n",
       "      <td>row_1</td>\n",
       "      <td>1</td>\n",
       "      <td>2</td>\n",
       "      <td>NaN</td>\n",
       "      <td>4</td>\n",
       "      <td>1.5</td>\n",
       "      <td>0.5</td>\n",
       "      <td>1</td>\n",
       "      <td>0.307617</td>\n",
       "      <td>0.668945</td>\n",
       "      <td>0.075684</td>\n",
       "      <td>0.301514</td>\n",
       "      <td>0.086670</td>\n",
       "      <td>0.099487</td>\n",
       "    </tr>\n",
       "    <tr>\n",
       "      <th>2</th>\n",
       "      <td>row_2</td>\n",
       "      <td>1</td>\n",
       "      <td>3</td>\n",
       "      <td>NaN</td>\n",
       "      <td>6</td>\n",
       "      <td>1.5</td>\n",
       "      <td>0.5</td>\n",
       "      <td>1</td>\n",
       "      <td>-0.725098</td>\n",
       "      <td>0.913086</td>\n",
       "      <td>0.083008</td>\n",
       "      <td>0.295410</td>\n",
       "      <td>0.092773</td>\n",
       "      <td>0.104980</td>\n",
       "    </tr>\n",
       "    <tr>\n",
       "      <th>3</th>\n",
       "      <td>row_3</td>\n",
       "      <td>1</td>\n",
       "      <td>4</td>\n",
       "      <td>0.11</td>\n",
       "      <td>7</td>\n",
       "      <td>1.5</td>\n",
       "      <td>0.5</td>\n",
       "      <td>1</td>\n",
       "      <td>0.112305</td>\n",
       "      <td>0.131836</td>\n",
       "      <td>0.083008</td>\n",
       "      <td>0.316162</td>\n",
       "      <td>0.112915</td>\n",
       "      <td>0.139771</td>\n",
       "    </tr>\n",
       "    <tr>\n",
       "      <th>4</th>\n",
       "      <td>row_4</td>\n",
       "      <td>1</td>\n",
       "      <td>5</td>\n",
       "      <td>NaN</td>\n",
       "      <td>11</td>\n",
       "      <td>1.5</td>\n",
       "      <td>0.5</td>\n",
       "      <td>1</td>\n",
       "      <td>-0.122070</td>\n",
       "      <td>0.449219</td>\n",
       "      <td>0.107422</td>\n",
       "      <td>0.284424</td>\n",
       "      <td>0.095825</td>\n",
       "      <td>0.110474</td>\n",
       "    </tr>\n",
       "  </tbody>\n",
       "</table>\n",
       "</div>"
      ],
      "text/plain": [
       "  Unnamed: 0  case  run    VB  time  DOC  feed  material     smcAC     smcDC  \\\n",
       "0      row_0     1    1  0.00     2  1.5   0.5         1 -0.017090  0.625000   \n",
       "1      row_1     1    2   NaN     4  1.5   0.5         1  0.307617  0.668945   \n",
       "2      row_2     1    3   NaN     6  1.5   0.5         1 -0.725098  0.913086   \n",
       "3      row_3     1    4  0.11     7  1.5   0.5         1  0.112305  0.131836   \n",
       "4      row_4     1    5   NaN    11  1.5   0.5         1 -0.122070  0.449219   \n",
       "\n",
       "   vib_table  vib_spindle  AE_table  AE_spindle  \n",
       "0   0.078125     0.314941  0.087280    0.103760  \n",
       "1   0.075684     0.301514  0.086670    0.099487  \n",
       "2   0.083008     0.295410  0.092773    0.104980  \n",
       "3   0.083008     0.316162  0.112915    0.139771  \n",
       "4   0.107422     0.284424  0.095825    0.110474  "
      ]
     },
     "execution_count": 2,
     "metadata": {},
     "output_type": "execute_result"
    }
   ],
   "source": [
    "df = pd.read_csv('mill.csv')\n",
    "\n",
    "df.head()"
   ]
  },
  {
   "cell_type": "markdown",
   "id": "57211098",
   "metadata": {},
   "source": [
    "I am interested to see the dataset sorted based on the case number, and then each experiement sorted as a coherent time series. So that It is more comfortable for me to carry on with future analysis"
   ]
  },
  {
   "cell_type": "code",
   "execution_count": 3,
   "id": "8c49d8ac",
   "metadata": {},
   "outputs": [
    {
     "data": {
      "text/html": [
       "<div>\n",
       "<style scoped>\n",
       "    .dataframe tbody tr th:only-of-type {\n",
       "        vertical-align: middle;\n",
       "    }\n",
       "\n",
       "    .dataframe tbody tr th {\n",
       "        vertical-align: top;\n",
       "    }\n",
       "\n",
       "    .dataframe thead th {\n",
       "        text-align: right;\n",
       "    }\n",
       "</style>\n",
       "<table border=\"1\" class=\"dataframe\">\n",
       "  <thead>\n",
       "    <tr style=\"text-align: right;\">\n",
       "      <th></th>\n",
       "      <th>Unnamed: 0</th>\n",
       "      <th>case</th>\n",
       "      <th>run</th>\n",
       "      <th>VB</th>\n",
       "      <th>time</th>\n",
       "      <th>DOC</th>\n",
       "      <th>feed</th>\n",
       "      <th>material</th>\n",
       "      <th>smcAC</th>\n",
       "      <th>smcDC</th>\n",
       "      <th>vib_table</th>\n",
       "      <th>vib_spindle</th>\n",
       "      <th>AE_table</th>\n",
       "      <th>AE_spindle</th>\n",
       "    </tr>\n",
       "  </thead>\n",
       "  <tbody>\n",
       "    <tr>\n",
       "      <th>0</th>\n",
       "      <td>row_0</td>\n",
       "      <td>1</td>\n",
       "      <td>1</td>\n",
       "      <td>0.00</td>\n",
       "      <td>2</td>\n",
       "      <td>1.5</td>\n",
       "      <td>0.5</td>\n",
       "      <td>1</td>\n",
       "      <td>-0.017090</td>\n",
       "      <td>0.625000</td>\n",
       "      <td>0.078125</td>\n",
       "      <td>0.314941</td>\n",
       "      <td>0.087280</td>\n",
       "      <td>0.103760</td>\n",
       "    </tr>\n",
       "    <tr>\n",
       "      <th>1</th>\n",
       "      <td>row_1</td>\n",
       "      <td>1</td>\n",
       "      <td>2</td>\n",
       "      <td>NaN</td>\n",
       "      <td>4</td>\n",
       "      <td>1.5</td>\n",
       "      <td>0.5</td>\n",
       "      <td>1</td>\n",
       "      <td>0.307617</td>\n",
       "      <td>0.668945</td>\n",
       "      <td>0.075684</td>\n",
       "      <td>0.301514</td>\n",
       "      <td>0.086670</td>\n",
       "      <td>0.099487</td>\n",
       "    </tr>\n",
       "    <tr>\n",
       "      <th>2</th>\n",
       "      <td>row_2</td>\n",
       "      <td>1</td>\n",
       "      <td>3</td>\n",
       "      <td>NaN</td>\n",
       "      <td>6</td>\n",
       "      <td>1.5</td>\n",
       "      <td>0.5</td>\n",
       "      <td>1</td>\n",
       "      <td>-0.725098</td>\n",
       "      <td>0.913086</td>\n",
       "      <td>0.083008</td>\n",
       "      <td>0.295410</td>\n",
       "      <td>0.092773</td>\n",
       "      <td>0.104980</td>\n",
       "    </tr>\n",
       "    <tr>\n",
       "      <th>3</th>\n",
       "      <td>row_3</td>\n",
       "      <td>1</td>\n",
       "      <td>4</td>\n",
       "      <td>0.11</td>\n",
       "      <td>7</td>\n",
       "      <td>1.5</td>\n",
       "      <td>0.5</td>\n",
       "      <td>1</td>\n",
       "      <td>0.112305</td>\n",
       "      <td>0.131836</td>\n",
       "      <td>0.083008</td>\n",
       "      <td>0.316162</td>\n",
       "      <td>0.112915</td>\n",
       "      <td>0.139771</td>\n",
       "    </tr>\n",
       "    <tr>\n",
       "      <th>4</th>\n",
       "      <td>row_4</td>\n",
       "      <td>1</td>\n",
       "      <td>5</td>\n",
       "      <td>NaN</td>\n",
       "      <td>11</td>\n",
       "      <td>1.5</td>\n",
       "      <td>0.5</td>\n",
       "      <td>1</td>\n",
       "      <td>-0.122070</td>\n",
       "      <td>0.449219</td>\n",
       "      <td>0.107422</td>\n",
       "      <td>0.284424</td>\n",
       "      <td>0.095825</td>\n",
       "      <td>0.110474</td>\n",
       "    </tr>\n",
       "    <tr>\n",
       "      <th>...</th>\n",
       "      <td>...</td>\n",
       "      <td>...</td>\n",
       "      <td>...</td>\n",
       "      <td>...</td>\n",
       "      <td>...</td>\n",
       "      <td>...</td>\n",
       "      <td>...</td>\n",
       "      <td>...</td>\n",
       "      <td>...</td>\n",
       "      <td>...</td>\n",
       "      <td>...</td>\n",
       "      <td>...</td>\n",
       "      <td>...</td>\n",
       "      <td>...</td>\n",
       "    </tr>\n",
       "    <tr>\n",
       "      <th>162</th>\n",
       "      <td>row_162</td>\n",
       "      <td>16</td>\n",
       "      <td>2</td>\n",
       "      <td>NaN</td>\n",
       "      <td>2</td>\n",
       "      <td>1.5</td>\n",
       "      <td>0.5</td>\n",
       "      <td>2</td>\n",
       "      <td>-0.583496</td>\n",
       "      <td>1.308594</td>\n",
       "      <td>0.063477</td>\n",
       "      <td>0.330811</td>\n",
       "      <td>0.093994</td>\n",
       "      <td>0.109253</td>\n",
       "    </tr>\n",
       "    <tr>\n",
       "      <th>163</th>\n",
       "      <td>row_163</td>\n",
       "      <td>16</td>\n",
       "      <td>3</td>\n",
       "      <td>0.24</td>\n",
       "      <td>3</td>\n",
       "      <td>1.5</td>\n",
       "      <td>0.5</td>\n",
       "      <td>2</td>\n",
       "      <td>-0.200195</td>\n",
       "      <td>1.406250</td>\n",
       "      <td>0.065918</td>\n",
       "      <td>0.279541</td>\n",
       "      <td>0.114746</td>\n",
       "      <td>0.139771</td>\n",
       "    </tr>\n",
       "    <tr>\n",
       "      <th>164</th>\n",
       "      <td>row_164</td>\n",
       "      <td>16</td>\n",
       "      <td>4</td>\n",
       "      <td>NaN</td>\n",
       "      <td>4</td>\n",
       "      <td>1.5</td>\n",
       "      <td>0.5</td>\n",
       "      <td>2</td>\n",
       "      <td>0.244141</td>\n",
       "      <td>1.328125</td>\n",
       "      <td>0.063477</td>\n",
       "      <td>0.290527</td>\n",
       "      <td>0.101318</td>\n",
       "      <td>0.117798</td>\n",
       "    </tr>\n",
       "    <tr>\n",
       "      <th>165</th>\n",
       "      <td>row_165</td>\n",
       "      <td>16</td>\n",
       "      <td>5</td>\n",
       "      <td>0.40</td>\n",
       "      <td>6</td>\n",
       "      <td>1.5</td>\n",
       "      <td>0.5</td>\n",
       "      <td>2</td>\n",
       "      <td>-0.205078</td>\n",
       "      <td>1.381836</td>\n",
       "      <td>0.068359</td>\n",
       "      <td>0.289307</td>\n",
       "      <td>0.098877</td>\n",
       "      <td>0.114746</td>\n",
       "    </tr>\n",
       "    <tr>\n",
       "      <th>166</th>\n",
       "      <td>row_166</td>\n",
       "      <td>16</td>\n",
       "      <td>6</td>\n",
       "      <td>0.62</td>\n",
       "      <td>9</td>\n",
       "      <td>1.5</td>\n",
       "      <td>0.5</td>\n",
       "      <td>2</td>\n",
       "      <td>-0.380859</td>\n",
       "      <td>1.381836</td>\n",
       "      <td>0.041504</td>\n",
       "      <td>0.292969</td>\n",
       "      <td>0.075684</td>\n",
       "      <td>0.083008</td>\n",
       "    </tr>\n",
       "  </tbody>\n",
       "</table>\n",
       "<p>167 rows × 14 columns</p>\n",
       "</div>"
      ],
      "text/plain": [
       "    Unnamed: 0  case  run    VB  time  DOC  feed  material     smcAC  \\\n",
       "0        row_0     1    1  0.00     2  1.5   0.5         1 -0.017090   \n",
       "1        row_1     1    2   NaN     4  1.5   0.5         1  0.307617   \n",
       "2        row_2     1    3   NaN     6  1.5   0.5         1 -0.725098   \n",
       "3        row_3     1    4  0.11     7  1.5   0.5         1  0.112305   \n",
       "4        row_4     1    5   NaN    11  1.5   0.5         1 -0.122070   \n",
       "..         ...   ...  ...   ...   ...  ...   ...       ...       ...   \n",
       "162    row_162    16    2   NaN     2  1.5   0.5         2 -0.583496   \n",
       "163    row_163    16    3  0.24     3  1.5   0.5         2 -0.200195   \n",
       "164    row_164    16    4   NaN     4  1.5   0.5         2  0.244141   \n",
       "165    row_165    16    5  0.40     6  1.5   0.5         2 -0.205078   \n",
       "166    row_166    16    6  0.62     9  1.5   0.5         2 -0.380859   \n",
       "\n",
       "        smcDC  vib_table  vib_spindle  AE_table  AE_spindle  \n",
       "0    0.625000   0.078125     0.314941  0.087280    0.103760  \n",
       "1    0.668945   0.075684     0.301514  0.086670    0.099487  \n",
       "2    0.913086   0.083008     0.295410  0.092773    0.104980  \n",
       "3    0.131836   0.083008     0.316162  0.112915    0.139771  \n",
       "4    0.449219   0.107422     0.284424  0.095825    0.110474  \n",
       "..        ...        ...          ...       ...         ...  \n",
       "162  1.308594   0.063477     0.330811  0.093994    0.109253  \n",
       "163  1.406250   0.065918     0.279541  0.114746    0.139771  \n",
       "164  1.328125   0.063477     0.290527  0.101318    0.117798  \n",
       "165  1.381836   0.068359     0.289307  0.098877    0.114746  \n",
       "166  1.381836   0.041504     0.292969  0.075684    0.083008  \n",
       "\n",
       "[167 rows x 14 columns]"
      ]
     },
     "execution_count": 3,
     "metadata": {},
     "output_type": "execute_result"
    }
   ],
   "source": [
    "df.sort_values(['case', 'time'])"
   ]
  },
  {
   "cell_type": "markdown",
   "id": "a0586844",
   "metadata": {},
   "source": [
    "I will drop the follwing columns: VB, smcAC, and run. \n",
    "\n",
    "VB is not relevant for forecasting and anomaly detection.\n",
    "\n",
    "smcAC is the AC spindle current. I already have smcDC, which is the DC for the spindle. So, I can easily observe the effect of feed force just from smcDC, making smcDC redundant.\n",
    "\n",
    "run follows the same trend as time, making it redundant. "
   ]
  },
  {
   "cell_type": "code",
   "execution_count": 4,
   "id": "0e97842c",
   "metadata": {},
   "outputs": [
    {
     "data": {
      "text/html": [
       "<div>\n",
       "<style scoped>\n",
       "    .dataframe tbody tr th:only-of-type {\n",
       "        vertical-align: middle;\n",
       "    }\n",
       "\n",
       "    .dataframe tbody tr th {\n",
       "        vertical-align: top;\n",
       "    }\n",
       "\n",
       "    .dataframe thead th {\n",
       "        text-align: right;\n",
       "    }\n",
       "</style>\n",
       "<table border=\"1\" class=\"dataframe\">\n",
       "  <thead>\n",
       "    <tr style=\"text-align: right;\">\n",
       "      <th></th>\n",
       "      <th>Unnamed: 0</th>\n",
       "      <th>case</th>\n",
       "      <th>time</th>\n",
       "      <th>DOC</th>\n",
       "      <th>feed</th>\n",
       "      <th>material</th>\n",
       "      <th>smcDC</th>\n",
       "      <th>vib_table</th>\n",
       "      <th>vib_spindle</th>\n",
       "      <th>AE_table</th>\n",
       "      <th>AE_spindle</th>\n",
       "    </tr>\n",
       "  </thead>\n",
       "  <tbody>\n",
       "    <tr>\n",
       "      <th>0</th>\n",
       "      <td>row_0</td>\n",
       "      <td>1</td>\n",
       "      <td>2</td>\n",
       "      <td>1.5</td>\n",
       "      <td>0.5</td>\n",
       "      <td>1</td>\n",
       "      <td>0.625000</td>\n",
       "      <td>0.078125</td>\n",
       "      <td>0.314941</td>\n",
       "      <td>0.087280</td>\n",
       "      <td>0.103760</td>\n",
       "    </tr>\n",
       "    <tr>\n",
       "      <th>1</th>\n",
       "      <td>row_1</td>\n",
       "      <td>1</td>\n",
       "      <td>4</td>\n",
       "      <td>1.5</td>\n",
       "      <td>0.5</td>\n",
       "      <td>1</td>\n",
       "      <td>0.668945</td>\n",
       "      <td>0.075684</td>\n",
       "      <td>0.301514</td>\n",
       "      <td>0.086670</td>\n",
       "      <td>0.099487</td>\n",
       "    </tr>\n",
       "    <tr>\n",
       "      <th>2</th>\n",
       "      <td>row_2</td>\n",
       "      <td>1</td>\n",
       "      <td>6</td>\n",
       "      <td>1.5</td>\n",
       "      <td>0.5</td>\n",
       "      <td>1</td>\n",
       "      <td>0.913086</td>\n",
       "      <td>0.083008</td>\n",
       "      <td>0.295410</td>\n",
       "      <td>0.092773</td>\n",
       "      <td>0.104980</td>\n",
       "    </tr>\n",
       "    <tr>\n",
       "      <th>3</th>\n",
       "      <td>row_3</td>\n",
       "      <td>1</td>\n",
       "      <td>7</td>\n",
       "      <td>1.5</td>\n",
       "      <td>0.5</td>\n",
       "      <td>1</td>\n",
       "      <td>0.131836</td>\n",
       "      <td>0.083008</td>\n",
       "      <td>0.316162</td>\n",
       "      <td>0.112915</td>\n",
       "      <td>0.139771</td>\n",
       "    </tr>\n",
       "    <tr>\n",
       "      <th>4</th>\n",
       "      <td>row_4</td>\n",
       "      <td>1</td>\n",
       "      <td>11</td>\n",
       "      <td>1.5</td>\n",
       "      <td>0.5</td>\n",
       "      <td>1</td>\n",
       "      <td>0.449219</td>\n",
       "      <td>0.107422</td>\n",
       "      <td>0.284424</td>\n",
       "      <td>0.095825</td>\n",
       "      <td>0.110474</td>\n",
       "    </tr>\n",
       "    <tr>\n",
       "      <th>...</th>\n",
       "      <td>...</td>\n",
       "      <td>...</td>\n",
       "      <td>...</td>\n",
       "      <td>...</td>\n",
       "      <td>...</td>\n",
       "      <td>...</td>\n",
       "      <td>...</td>\n",
       "      <td>...</td>\n",
       "      <td>...</td>\n",
       "      <td>...</td>\n",
       "      <td>...</td>\n",
       "    </tr>\n",
       "    <tr>\n",
       "      <th>162</th>\n",
       "      <td>row_162</td>\n",
       "      <td>16</td>\n",
       "      <td>2</td>\n",
       "      <td>1.5</td>\n",
       "      <td>0.5</td>\n",
       "      <td>2</td>\n",
       "      <td>1.308594</td>\n",
       "      <td>0.063477</td>\n",
       "      <td>0.330811</td>\n",
       "      <td>0.093994</td>\n",
       "      <td>0.109253</td>\n",
       "    </tr>\n",
       "    <tr>\n",
       "      <th>163</th>\n",
       "      <td>row_163</td>\n",
       "      <td>16</td>\n",
       "      <td>3</td>\n",
       "      <td>1.5</td>\n",
       "      <td>0.5</td>\n",
       "      <td>2</td>\n",
       "      <td>1.406250</td>\n",
       "      <td>0.065918</td>\n",
       "      <td>0.279541</td>\n",
       "      <td>0.114746</td>\n",
       "      <td>0.139771</td>\n",
       "    </tr>\n",
       "    <tr>\n",
       "      <th>164</th>\n",
       "      <td>row_164</td>\n",
       "      <td>16</td>\n",
       "      <td>4</td>\n",
       "      <td>1.5</td>\n",
       "      <td>0.5</td>\n",
       "      <td>2</td>\n",
       "      <td>1.328125</td>\n",
       "      <td>0.063477</td>\n",
       "      <td>0.290527</td>\n",
       "      <td>0.101318</td>\n",
       "      <td>0.117798</td>\n",
       "    </tr>\n",
       "    <tr>\n",
       "      <th>165</th>\n",
       "      <td>row_165</td>\n",
       "      <td>16</td>\n",
       "      <td>6</td>\n",
       "      <td>1.5</td>\n",
       "      <td>0.5</td>\n",
       "      <td>2</td>\n",
       "      <td>1.381836</td>\n",
       "      <td>0.068359</td>\n",
       "      <td>0.289307</td>\n",
       "      <td>0.098877</td>\n",
       "      <td>0.114746</td>\n",
       "    </tr>\n",
       "    <tr>\n",
       "      <th>166</th>\n",
       "      <td>row_166</td>\n",
       "      <td>16</td>\n",
       "      <td>9</td>\n",
       "      <td>1.5</td>\n",
       "      <td>0.5</td>\n",
       "      <td>2</td>\n",
       "      <td>1.381836</td>\n",
       "      <td>0.041504</td>\n",
       "      <td>0.292969</td>\n",
       "      <td>0.075684</td>\n",
       "      <td>0.083008</td>\n",
       "    </tr>\n",
       "  </tbody>\n",
       "</table>\n",
       "<p>167 rows × 11 columns</p>\n",
       "</div>"
      ],
      "text/plain": [
       "    Unnamed: 0  case  time  DOC  feed  material     smcDC  vib_table  \\\n",
       "0        row_0     1     2  1.5   0.5         1  0.625000   0.078125   \n",
       "1        row_1     1     4  1.5   0.5         1  0.668945   0.075684   \n",
       "2        row_2     1     6  1.5   0.5         1  0.913086   0.083008   \n",
       "3        row_3     1     7  1.5   0.5         1  0.131836   0.083008   \n",
       "4        row_4     1    11  1.5   0.5         1  0.449219   0.107422   \n",
       "..         ...   ...   ...  ...   ...       ...       ...        ...   \n",
       "162    row_162    16     2  1.5   0.5         2  1.308594   0.063477   \n",
       "163    row_163    16     3  1.5   0.5         2  1.406250   0.065918   \n",
       "164    row_164    16     4  1.5   0.5         2  1.328125   0.063477   \n",
       "165    row_165    16     6  1.5   0.5         2  1.381836   0.068359   \n",
       "166    row_166    16     9  1.5   0.5         2  1.381836   0.041504   \n",
       "\n",
       "     vib_spindle  AE_table  AE_spindle  \n",
       "0       0.314941  0.087280    0.103760  \n",
       "1       0.301514  0.086670    0.099487  \n",
       "2       0.295410  0.092773    0.104980  \n",
       "3       0.316162  0.112915    0.139771  \n",
       "4       0.284424  0.095825    0.110474  \n",
       "..           ...       ...         ...  \n",
       "162     0.330811  0.093994    0.109253  \n",
       "163     0.279541  0.114746    0.139771  \n",
       "164     0.290527  0.101318    0.117798  \n",
       "165     0.289307  0.098877    0.114746  \n",
       "166     0.292969  0.075684    0.083008  \n",
       "\n",
       "[167 rows x 11 columns]"
      ]
     },
     "execution_count": 4,
     "metadata": {},
     "output_type": "execute_result"
    }
   ],
   "source": [
    "df.drop(columns = ['VB', 'smcAC', 'run'])\n"
   ]
  },
  {
   "cell_type": "markdown",
   "id": "7921632e",
   "metadata": {},
   "source": [
    "Let's see which experiment settings ran the longest, and which experiments ended really quickly."
   ]
  },
  {
   "cell_type": "code",
   "execution_count": 5,
   "id": "33e51011",
   "metadata": {},
   "outputs": [
    {
     "data": {
      "text/plain": [
       "<AxesSubplot:>"
      ]
     },
     "execution_count": 5,
     "metadata": {},
     "output_type": "execute_result"
    },
    {
     "data": {
      "image/png": "[encoded data removed]",
      "text/plain": [
       "<Figure size 432x288 with 1 Axes>"
      ]
     },
     "metadata": {
      "needs_background": "light"
     },
     "output_type": "display_data"
    }
   ],
   "source": [
    "df['case'].value_counts().plot.bar()"
   ]
  },
  {
   "cell_type": "markdown",
   "id": "eca6a584",
   "metadata": {},
   "source": [
    "It can be observed that case 11 has the longest experiment run time. It totally makes sense from a machining point view. \n",
    "\n",
    "The depth of cut is on the lower end for this case (0.75). A lower depth of cut means lesser cutting forces, which means the tool will wear out at a slower rate.\n",
    "\n",
    "The feed value is at the lower end (0.25). With lower feed values, lesser dynamic forces are generated, which will also reduce the wear rate of the tool. \n",
    "\n",
    "Finally, the material of the cutting tool for case 11 is cast iron (1). Cast iron is capable of absorbing more shocks as compared to steel owing to higher carbon content. With more shock absorption capability, the cutting tool is able to absorb dynamic loads better and as a results lasts longer. "
   ]
  },
  {
   "cell_type": "markdown",
   "id": "7dcb6f2b",
   "metadata": {},
   "source": [
    "The same reasoning can be also be observed in the case of case 16 (the case with shortest run-time, case 6 is ignored because it has only one data point and is statistically irrelevant).\n",
    "\n",
    "The cutting depth is higher (1.5), the feed rate is higher (0.5), and the material is steel (2). As a result, this tool wears out much quicker than the one used in case 11."
   ]
  },
  {
   "cell_type": "markdown",
   "id": "394f9414",
   "metadata": {},
   "source": [
    "Let's take a closer look at the longest run time case (case 11)."
   ]
  },
  {
   "cell_type": "code",
   "execution_count": 6,
   "id": "a97b699e",
   "metadata": {},
   "outputs": [
    {
     "data": {
      "text/html": [
       "<div>\n",
       "<style scoped>\n",
       "    .dataframe tbody tr th:only-of-type {\n",
       "        vertical-align: middle;\n",
       "    }\n",
       "\n",
       "    .dataframe tbody tr th {\n",
       "        vertical-align: top;\n",
       "    }\n",
       "\n",
       "    .dataframe thead th {\n",
       "        text-align: right;\n",
       "    }\n",
       "</style>\n",
       "<table border=\"1\" class=\"dataframe\">\n",
       "  <thead>\n",
       "    <tr style=\"text-align: right;\">\n",
       "      <th></th>\n",
       "      <th>Unnamed: 0</th>\n",
       "      <th>case</th>\n",
       "      <th>run</th>\n",
       "      <th>VB</th>\n",
       "      <th>time</th>\n",
       "      <th>DOC</th>\n",
       "      <th>feed</th>\n",
       "      <th>material</th>\n",
       "      <th>smcAC</th>\n",
       "      <th>smcDC</th>\n",
       "      <th>vib_table</th>\n",
       "      <th>vib_spindle</th>\n",
       "      <th>AE_table</th>\n",
       "      <th>AE_spindle</th>\n",
       "    </tr>\n",
       "  </thead>\n",
       "  <tbody>\n",
       "    <tr>\n",
       "      <th>71</th>\n",
       "      <td>row_71</td>\n",
       "      <td>11</td>\n",
       "      <td>1</td>\n",
       "      <td>0.00</td>\n",
       "      <td>1</td>\n",
       "      <td>0.75</td>\n",
       "      <td>0.25</td>\n",
       "      <td>1</td>\n",
       "      <td>-0.244141</td>\n",
       "      <td>1.352539</td>\n",
       "      <td>0.070801</td>\n",
       "      <td>0.289307</td>\n",
       "      <td>0.126953</td>\n",
       "      <td>0.164185</td>\n",
       "    </tr>\n",
       "    <tr>\n",
       "      <th>72</th>\n",
       "      <td>row_72</td>\n",
       "      <td>11</td>\n",
       "      <td>2</td>\n",
       "      <td>0.04</td>\n",
       "      <td>3</td>\n",
       "      <td>0.75</td>\n",
       "      <td>0.25</td>\n",
       "      <td>1</td>\n",
       "      <td>-0.654297</td>\n",
       "      <td>1.313477</td>\n",
       "      <td>0.070801</td>\n",
       "      <td>0.301514</td>\n",
       "      <td>0.149536</td>\n",
       "      <td>0.181274</td>\n",
       "    </tr>\n",
       "    <tr>\n",
       "      <th>73</th>\n",
       "      <td>row_73</td>\n",
       "      <td>11</td>\n",
       "      <td>3</td>\n",
       "      <td>0.07</td>\n",
       "      <td>10</td>\n",
       "      <td>0.75</td>\n",
       "      <td>0.25</td>\n",
       "      <td>1</td>\n",
       "      <td>-0.214844</td>\n",
       "      <td>1.411133</td>\n",
       "      <td>0.070801</td>\n",
       "      <td>0.269775</td>\n",
       "      <td>0.092773</td>\n",
       "      <td>0.121460</td>\n",
       "    </tr>\n",
       "    <tr>\n",
       "      <th>74</th>\n",
       "      <td>row_74</td>\n",
       "      <td>11</td>\n",
       "      <td>4</td>\n",
       "      <td>0.07</td>\n",
       "      <td>12</td>\n",
       "      <td>0.75</td>\n",
       "      <td>0.25</td>\n",
       "      <td>1</td>\n",
       "      <td>0.263672</td>\n",
       "      <td>1.391602</td>\n",
       "      <td>0.061035</td>\n",
       "      <td>0.286865</td>\n",
       "      <td>0.098877</td>\n",
       "      <td>0.115356</td>\n",
       "    </tr>\n",
       "    <tr>\n",
       "      <th>75</th>\n",
       "      <td>row_75</td>\n",
       "      <td>11</td>\n",
       "      <td>5</td>\n",
       "      <td>0.08</td>\n",
       "      <td>14</td>\n",
       "      <td>0.75</td>\n",
       "      <td>0.25</td>\n",
       "      <td>1</td>\n",
       "      <td>-0.605469</td>\n",
       "      <td>1.342773</td>\n",
       "      <td>0.065918</td>\n",
       "      <td>0.296631</td>\n",
       "      <td>0.121460</td>\n",
       "      <td>0.144653</td>\n",
       "    </tr>\n",
       "    <tr>\n",
       "      <th>76</th>\n",
       "      <td>row_76</td>\n",
       "      <td>11</td>\n",
       "      <td>6</td>\n",
       "      <td>0.09</td>\n",
       "      <td>17</td>\n",
       "      <td>0.75</td>\n",
       "      <td>0.25</td>\n",
       "      <td>1</td>\n",
       "      <td>0.341797</td>\n",
       "      <td>1.411133</td>\n",
       "      <td>0.070801</td>\n",
       "      <td>0.284424</td>\n",
       "      <td>0.101929</td>\n",
       "      <td>0.123901</td>\n",
       "    </tr>\n",
       "    <tr>\n",
       "      <th>77</th>\n",
       "      <td>row_77</td>\n",
       "      <td>11</td>\n",
       "      <td>7</td>\n",
       "      <td>NaN</td>\n",
       "      <td>19</td>\n",
       "      <td>0.75</td>\n",
       "      <td>0.25</td>\n",
       "      <td>1</td>\n",
       "      <td>0.214844</td>\n",
       "      <td>1.406250</td>\n",
       "      <td>0.068359</td>\n",
       "      <td>0.274658</td>\n",
       "      <td>0.085449</td>\n",
       "      <td>0.101318</td>\n",
       "    </tr>\n",
       "    <tr>\n",
       "      <th>78</th>\n",
       "      <td>row_78</td>\n",
       "      <td>11</td>\n",
       "      <td>8</td>\n",
       "      <td>0.12</td>\n",
       "      <td>21</td>\n",
       "      <td>0.75</td>\n",
       "      <td>0.25</td>\n",
       "      <td>1</td>\n",
       "      <td>-0.366211</td>\n",
       "      <td>1.416016</td>\n",
       "      <td>0.065918</td>\n",
       "      <td>0.321045</td>\n",
       "      <td>0.096436</td>\n",
       "      <td>0.115356</td>\n",
       "    </tr>\n",
       "    <tr>\n",
       "      <th>79</th>\n",
       "      <td>row_79</td>\n",
       "      <td>11</td>\n",
       "      <td>9</td>\n",
       "      <td>0.16</td>\n",
       "      <td>27</td>\n",
       "      <td>0.75</td>\n",
       "      <td>0.25</td>\n",
       "      <td>1</td>\n",
       "      <td>-0.678711</td>\n",
       "      <td>1.352539</td>\n",
       "      <td>0.063477</td>\n",
       "      <td>0.294189</td>\n",
       "      <td>0.106812</td>\n",
       "      <td>0.127563</td>\n",
       "    </tr>\n",
       "    <tr>\n",
       "      <th>80</th>\n",
       "      <td>row_80</td>\n",
       "      <td>11</td>\n",
       "      <td>10</td>\n",
       "      <td>0.18</td>\n",
       "      <td>33</td>\n",
       "      <td>0.75</td>\n",
       "      <td>0.25</td>\n",
       "      <td>1</td>\n",
       "      <td>-0.463867</td>\n",
       "      <td>1.381836</td>\n",
       "      <td>0.070801</td>\n",
       "      <td>0.290527</td>\n",
       "      <td>0.100708</td>\n",
       "      <td>0.122681</td>\n",
       "    </tr>\n",
       "    <tr>\n",
       "      <th>81</th>\n",
       "      <td>row_81</td>\n",
       "      <td>11</td>\n",
       "      <td>11</td>\n",
       "      <td>0.20</td>\n",
       "      <td>39</td>\n",
       "      <td>0.75</td>\n",
       "      <td>0.25</td>\n",
       "      <td>1</td>\n",
       "      <td>0.146484</td>\n",
       "      <td>1.411133</td>\n",
       "      <td>0.068359</td>\n",
       "      <td>0.284424</td>\n",
       "      <td>0.095215</td>\n",
       "      <td>0.108032</td>\n",
       "    </tr>\n",
       "    <tr>\n",
       "      <th>82</th>\n",
       "      <td>row_82</td>\n",
       "      <td>11</td>\n",
       "      <td>12</td>\n",
       "      <td>0.23</td>\n",
       "      <td>45</td>\n",
       "      <td>0.75</td>\n",
       "      <td>0.25</td>\n",
       "      <td>1</td>\n",
       "      <td>-0.329590</td>\n",
       "      <td>1.386719</td>\n",
       "      <td>0.078125</td>\n",
       "      <td>0.289307</td>\n",
       "      <td>0.115356</td>\n",
       "      <td>0.138550</td>\n",
       "    </tr>\n",
       "    <tr>\n",
       "      <th>83</th>\n",
       "      <td>row_83</td>\n",
       "      <td>11</td>\n",
       "      <td>13</td>\n",
       "      <td>0.26</td>\n",
       "      <td>51</td>\n",
       "      <td>0.75</td>\n",
       "      <td>0.25</td>\n",
       "      <td>1</td>\n",
       "      <td>-0.549316</td>\n",
       "      <td>1.352539</td>\n",
       "      <td>0.078125</td>\n",
       "      <td>0.281982</td>\n",
       "      <td>0.092163</td>\n",
       "      <td>0.121460</td>\n",
       "    </tr>\n",
       "    <tr>\n",
       "      <th>84</th>\n",
       "      <td>row_84</td>\n",
       "      <td>11</td>\n",
       "      <td>14</td>\n",
       "      <td>NaN</td>\n",
       "      <td>54</td>\n",
       "      <td>0.75</td>\n",
       "      <td>0.25</td>\n",
       "      <td>1</td>\n",
       "      <td>-0.554199</td>\n",
       "      <td>1.352539</td>\n",
       "      <td>0.078125</td>\n",
       "      <td>0.310059</td>\n",
       "      <td>0.091553</td>\n",
       "      <td>0.103760</td>\n",
       "    </tr>\n",
       "    <tr>\n",
       "      <th>85</th>\n",
       "      <td>row_85</td>\n",
       "      <td>11</td>\n",
       "      <td>15</td>\n",
       "      <td>0.31</td>\n",
       "      <td>57</td>\n",
       "      <td>0.75</td>\n",
       "      <td>0.25</td>\n",
       "      <td>1</td>\n",
       "      <td>-0.092773</td>\n",
       "      <td>1.396484</td>\n",
       "      <td>0.085449</td>\n",
       "      <td>0.301514</td>\n",
       "      <td>0.095825</td>\n",
       "      <td>0.122681</td>\n",
       "    </tr>\n",
       "    <tr>\n",
       "      <th>86</th>\n",
       "      <td>row_86</td>\n",
       "      <td>11</td>\n",
       "      <td>16</td>\n",
       "      <td>0.37</td>\n",
       "      <td>63</td>\n",
       "      <td>0.75</td>\n",
       "      <td>0.25</td>\n",
       "      <td>1</td>\n",
       "      <td>-0.676270</td>\n",
       "      <td>1.376953</td>\n",
       "      <td>0.092773</td>\n",
       "      <td>0.301514</td>\n",
       "      <td>0.114746</td>\n",
       "      <td>0.137939</td>\n",
       "    </tr>\n",
       "    <tr>\n",
       "      <th>87</th>\n",
       "      <td>row_87</td>\n",
       "      <td>11</td>\n",
       "      <td>17</td>\n",
       "      <td>NaN</td>\n",
       "      <td>67</td>\n",
       "      <td>0.75</td>\n",
       "      <td>0.25</td>\n",
       "      <td>1</td>\n",
       "      <td>-0.122070</td>\n",
       "      <td>1.372070</td>\n",
       "      <td>0.085449</td>\n",
       "      <td>0.274658</td>\n",
       "      <td>0.115967</td>\n",
       "      <td>0.137939</td>\n",
       "    </tr>\n",
       "    <tr>\n",
       "      <th>88</th>\n",
       "      <td>row_88</td>\n",
       "      <td>11</td>\n",
       "      <td>18</td>\n",
       "      <td>0.42</td>\n",
       "      <td>72</td>\n",
       "      <td>0.75</td>\n",
       "      <td>0.25</td>\n",
       "      <td>1</td>\n",
       "      <td>0.244141</td>\n",
       "      <td>1.406250</td>\n",
       "      <td>0.080566</td>\n",
       "      <td>0.264893</td>\n",
       "      <td>0.117798</td>\n",
       "      <td>0.140991</td>\n",
       "    </tr>\n",
       "    <tr>\n",
       "      <th>89</th>\n",
       "      <td>row_89</td>\n",
       "      <td>11</td>\n",
       "      <td>19</td>\n",
       "      <td>0.47</td>\n",
       "      <td>80</td>\n",
       "      <td>0.75</td>\n",
       "      <td>0.25</td>\n",
       "      <td>1</td>\n",
       "      <td>0.246582</td>\n",
       "      <td>1.396484</td>\n",
       "      <td>0.078125</td>\n",
       "      <td>0.260010</td>\n",
       "      <td>0.082397</td>\n",
       "      <td>0.106812</td>\n",
       "    </tr>\n",
       "    <tr>\n",
       "      <th>90</th>\n",
       "      <td>row_90</td>\n",
       "      <td>11</td>\n",
       "      <td>20</td>\n",
       "      <td>0.57</td>\n",
       "      <td>86</td>\n",
       "      <td>0.75</td>\n",
       "      <td>0.25</td>\n",
       "      <td>1</td>\n",
       "      <td>-0.097656</td>\n",
       "      <td>1.352539</td>\n",
       "      <td>0.136719</td>\n",
       "      <td>0.267334</td>\n",
       "      <td>0.098877</td>\n",
       "      <td>0.120850</td>\n",
       "    </tr>\n",
       "    <tr>\n",
       "      <th>91</th>\n",
       "      <td>row_91</td>\n",
       "      <td>11</td>\n",
       "      <td>21</td>\n",
       "      <td>0.65</td>\n",
       "      <td>93</td>\n",
       "      <td>0.75</td>\n",
       "      <td>0.25</td>\n",
       "      <td>1</td>\n",
       "      <td>-0.039062</td>\n",
       "      <td>1.376953</td>\n",
       "      <td>0.083008</td>\n",
       "      <td>0.257568</td>\n",
       "      <td>0.111694</td>\n",
       "      <td>0.139771</td>\n",
       "    </tr>\n",
       "    <tr>\n",
       "      <th>92</th>\n",
       "      <td>row_92</td>\n",
       "      <td>11</td>\n",
       "      <td>22</td>\n",
       "      <td>0.68</td>\n",
       "      <td>100</td>\n",
       "      <td>0.75</td>\n",
       "      <td>0.25</td>\n",
       "      <td>1</td>\n",
       "      <td>-0.798340</td>\n",
       "      <td>1.347656</td>\n",
       "      <td>0.073242</td>\n",
       "      <td>0.279541</td>\n",
       "      <td>0.102539</td>\n",
       "      <td>0.133667</td>\n",
       "    </tr>\n",
       "    <tr>\n",
       "      <th>93</th>\n",
       "      <td>row_93</td>\n",
       "      <td>11</td>\n",
       "      <td>23</td>\n",
       "      <td>0.76</td>\n",
       "      <td>105</td>\n",
       "      <td>0.75</td>\n",
       "      <td>0.25</td>\n",
       "      <td>1</td>\n",
       "      <td>0.214844</td>\n",
       "      <td>1.342773</td>\n",
       "      <td>0.070801</td>\n",
       "      <td>0.261230</td>\n",
       "      <td>0.097656</td>\n",
       "      <td>0.116577</td>\n",
       "    </tr>\n",
       "  </tbody>\n",
       "</table>\n",
       "</div>"
      ],
      "text/plain": [
       "   Unnamed: 0  case  run    VB  time   DOC  feed  material     smcAC  \\\n",
       "71     row_71    11    1  0.00     1  0.75  0.25         1 -0.244141   \n",
       "72     row_72    11    2  0.04     3  0.75  0.25         1 -0.654297   \n",
       "73     row_73    11    3  0.07    10  0.75  0.25         1 -0.214844   \n",
       "74     row_74    11    4  0.07    12  0.75  0.25         1  0.263672   \n",
       "75     row_75    11    5  0.08    14  0.75  0.25         1 -0.605469   \n",
       "76     row_76    11    6  0.09    17  0.75  0.25         1  0.341797   \n",
       "77     row_77    11    7   NaN    19  0.75  0.25         1  0.214844   \n",
       "78     row_78    11    8  0.12    21  0.75  0.25         1 -0.366211   \n",
       "79     row_79    11    9  0.16    27  0.75  0.25         1 -0.678711   \n",
       "80     row_80    11   10  0.18    33  0.75  0.25         1 -0.463867   \n",
       "81     row_81    11   11  0.20    39  0.75  0.25         1  0.146484   \n",
       "82     row_82    11   12  0.23    45  0.75  0.25         1 -0.329590   \n",
       "83     row_83    11   13  0.26    51  0.75  0.25         1 -0.549316   \n",
       "84     row_84    11   14   NaN    54  0.75  0.25         1 -0.554199   \n",
       "85     row_85    11   15  0.31    57  0.75  0.25         1 -0.092773   \n",
       "86     row_86    11   16  0.37    63  0.75  0.25         1 -0.676270   \n",
       "87     row_87    11   17   NaN    67  0.75  0.25         1 -0.122070   \n",
       "88     row_88    11   18  0.42    72  0.75  0.25         1  0.244141   \n",
       "89     row_89    11   19  0.47    80  0.75  0.25         1  0.246582   \n",
       "90     row_90    11   20  0.57    86  0.75  0.25         1 -0.097656   \n",
       "91     row_91    11   21  0.65    93  0.75  0.25         1 -0.039062   \n",
       "92     row_92    11   22  0.68   100  0.75  0.25         1 -0.798340   \n",
       "93     row_93    11   23  0.76   105  0.75  0.25         1  0.214844   \n",
       "\n",
       "       smcDC  vib_table  vib_spindle  AE_table  AE_spindle  \n",
       "71  1.352539   0.070801     0.289307  0.126953    0.164185  \n",
       "72  1.313477   0.070801     0.301514  0.149536    0.181274  \n",
       "73  1.411133   0.070801     0.269775  0.092773    0.121460  \n",
       "74  1.391602   0.061035     0.286865  0.098877    0.115356  \n",
       "75  1.342773   0.065918     0.296631  0.121460    0.144653  \n",
       "76  1.411133   0.070801     0.284424  0.101929    0.123901  \n",
       "77  1.406250   0.068359     0.274658  0.085449    0.101318  \n",
       "78  1.416016   0.065918     0.321045  0.096436    0.115356  \n",
       "79  1.352539   0.063477     0.294189  0.106812    0.127563  \n",
       "80  1.381836   0.070801     0.290527  0.100708    0.122681  \n",
       "81  1.411133   0.068359     0.284424  0.095215    0.108032  \n",
       "82  1.386719   0.078125     0.289307  0.115356    0.138550  \n",
       "83  1.352539   0.078125     0.281982  0.092163    0.121460  \n",
       "84  1.352539   0.078125     0.310059  0.091553    0.103760  \n",
       "85  1.396484   0.085449     0.301514  0.095825    0.122681  \n",
       "86  1.376953   0.092773     0.301514  0.114746    0.137939  \n",
       "87  1.372070   0.085449     0.274658  0.115967    0.137939  \n",
       "88  1.406250   0.080566     0.264893  0.117798    0.140991  \n",
       "89  1.396484   0.078125     0.260010  0.082397    0.106812  \n",
       "90  1.352539   0.136719     0.267334  0.098877    0.120850  \n",
       "91  1.376953   0.083008     0.257568  0.111694    0.139771  \n",
       "92  1.347656   0.073242     0.279541  0.102539    0.133667  \n",
       "93  1.342773   0.070801     0.261230  0.097656    0.116577  "
      ]
     },
     "execution_count": 6,
     "metadata": {},
     "output_type": "execute_result"
    }
   ],
   "source": [
    "df2 = df.loc[df['case'] == 11]\n",
    "df2"
   ]
  },
  {
   "cell_type": "markdown",
   "id": "c5f5cb40",
   "metadata": {},
   "source": [
    "Let's drop VB, smcAC, and run for reasons described above."
   ]
  },
  {
   "cell_type": "code",
   "execution_count": 7,
   "id": "83895efb",
   "metadata": {},
   "outputs": [
    {
     "data": {
      "text/html": [
       "<div>\n",
       "<style scoped>\n",
       "    .dataframe tbody tr th:only-of-type {\n",
       "        vertical-align: middle;\n",
       "    }\n",
       "\n",
       "    .dataframe tbody tr th {\n",
       "        vertical-align: top;\n",
       "    }\n",
       "\n",
       "    .dataframe thead th {\n",
       "        text-align: right;\n",
       "    }\n",
       "</style>\n",
       "<table border=\"1\" class=\"dataframe\">\n",
       "  <thead>\n",
       "    <tr style=\"text-align: right;\">\n",
       "      <th></th>\n",
       "      <th>Unnamed: 0</th>\n",
       "      <th>case</th>\n",
       "      <th>time</th>\n",
       "      <th>DOC</th>\n",
       "      <th>feed</th>\n",
       "      <th>material</th>\n",
       "      <th>smcDC</th>\n",
       "      <th>vib_table</th>\n",
       "      <th>vib_spindle</th>\n",
       "      <th>AE_table</th>\n",
       "      <th>AE_spindle</th>\n",
       "    </tr>\n",
       "  </thead>\n",
       "  <tbody>\n",
       "    <tr>\n",
       "      <th>71</th>\n",
       "      <td>row_71</td>\n",
       "      <td>11</td>\n",
       "      <td>1</td>\n",
       "      <td>0.75</td>\n",
       "      <td>0.25</td>\n",
       "      <td>1</td>\n",
       "      <td>1.352539</td>\n",
       "      <td>0.070801</td>\n",
       "      <td>0.289307</td>\n",
       "      <td>0.126953</td>\n",
       "      <td>0.164185</td>\n",
       "    </tr>\n",
       "    <tr>\n",
       "      <th>72</th>\n",
       "      <td>row_72</td>\n",
       "      <td>11</td>\n",
       "      <td>3</td>\n",
       "      <td>0.75</td>\n",
       "      <td>0.25</td>\n",
       "      <td>1</td>\n",
       "      <td>1.313477</td>\n",
       "      <td>0.070801</td>\n",
       "      <td>0.301514</td>\n",
       "      <td>0.149536</td>\n",
       "      <td>0.181274</td>\n",
       "    </tr>\n",
       "    <tr>\n",
       "      <th>73</th>\n",
       "      <td>row_73</td>\n",
       "      <td>11</td>\n",
       "      <td>10</td>\n",
       "      <td>0.75</td>\n",
       "      <td>0.25</td>\n",
       "      <td>1</td>\n",
       "      <td>1.411133</td>\n",
       "      <td>0.070801</td>\n",
       "      <td>0.269775</td>\n",
       "      <td>0.092773</td>\n",
       "      <td>0.121460</td>\n",
       "    </tr>\n",
       "    <tr>\n",
       "      <th>74</th>\n",
       "      <td>row_74</td>\n",
       "      <td>11</td>\n",
       "      <td>12</td>\n",
       "      <td>0.75</td>\n",
       "      <td>0.25</td>\n",
       "      <td>1</td>\n",
       "      <td>1.391602</td>\n",
       "      <td>0.061035</td>\n",
       "      <td>0.286865</td>\n",
       "      <td>0.098877</td>\n",
       "      <td>0.115356</td>\n",
       "    </tr>\n",
       "    <tr>\n",
       "      <th>75</th>\n",
       "      <td>row_75</td>\n",
       "      <td>11</td>\n",
       "      <td>14</td>\n",
       "      <td>0.75</td>\n",
       "      <td>0.25</td>\n",
       "      <td>1</td>\n",
       "      <td>1.342773</td>\n",
       "      <td>0.065918</td>\n",
       "      <td>0.296631</td>\n",
       "      <td>0.121460</td>\n",
       "      <td>0.144653</td>\n",
       "    </tr>\n",
       "    <tr>\n",
       "      <th>76</th>\n",
       "      <td>row_76</td>\n",
       "      <td>11</td>\n",
       "      <td>17</td>\n",
       "      <td>0.75</td>\n",
       "      <td>0.25</td>\n",
       "      <td>1</td>\n",
       "      <td>1.411133</td>\n",
       "      <td>0.070801</td>\n",
       "      <td>0.284424</td>\n",
       "      <td>0.101929</td>\n",
       "      <td>0.123901</td>\n",
       "    </tr>\n",
       "    <tr>\n",
       "      <th>77</th>\n",
       "      <td>row_77</td>\n",
       "      <td>11</td>\n",
       "      <td>19</td>\n",
       "      <td>0.75</td>\n",
       "      <td>0.25</td>\n",
       "      <td>1</td>\n",
       "      <td>1.406250</td>\n",
       "      <td>0.068359</td>\n",
       "      <td>0.274658</td>\n",
       "      <td>0.085449</td>\n",
       "      <td>0.101318</td>\n",
       "    </tr>\n",
       "    <tr>\n",
       "      <th>78</th>\n",
       "      <td>row_78</td>\n",
       "      <td>11</td>\n",
       "      <td>21</td>\n",
       "      <td>0.75</td>\n",
       "      <td>0.25</td>\n",
       "      <td>1</td>\n",
       "      <td>1.416016</td>\n",
       "      <td>0.065918</td>\n",
       "      <td>0.321045</td>\n",
       "      <td>0.096436</td>\n",
       "      <td>0.115356</td>\n",
       "    </tr>\n",
       "    <tr>\n",
       "      <th>79</th>\n",
       "      <td>row_79</td>\n",
       "      <td>11</td>\n",
       "      <td>27</td>\n",
       "      <td>0.75</td>\n",
       "      <td>0.25</td>\n",
       "      <td>1</td>\n",
       "      <td>1.352539</td>\n",
       "      <td>0.063477</td>\n",
       "      <td>0.294189</td>\n",
       "      <td>0.106812</td>\n",
       "      <td>0.127563</td>\n",
       "    </tr>\n",
       "    <tr>\n",
       "      <th>80</th>\n",
       "      <td>row_80</td>\n",
       "      <td>11</td>\n",
       "      <td>33</td>\n",
       "      <td>0.75</td>\n",
       "      <td>0.25</td>\n",
       "      <td>1</td>\n",
       "      <td>1.381836</td>\n",
       "      <td>0.070801</td>\n",
       "      <td>0.290527</td>\n",
       "      <td>0.100708</td>\n",
       "      <td>0.122681</td>\n",
       "    </tr>\n",
       "    <tr>\n",
       "      <th>81</th>\n",
       "      <td>row_81</td>\n",
       "      <td>11</td>\n",
       "      <td>39</td>\n",
       "      <td>0.75</td>\n",
       "      <td>0.25</td>\n",
       "      <td>1</td>\n",
       "      <td>1.411133</td>\n",
       "      <td>0.068359</td>\n",
       "      <td>0.284424</td>\n",
       "      <td>0.095215</td>\n",
       "      <td>0.108032</td>\n",
       "    </tr>\n",
       "    <tr>\n",
       "      <th>82</th>\n",
       "      <td>row_82</td>\n",
       "      <td>11</td>\n",
       "      <td>45</td>\n",
       "      <td>0.75</td>\n",
       "      <td>0.25</td>\n",
       "      <td>1</td>\n",
       "      <td>1.386719</td>\n",
       "      <td>0.078125</td>\n",
       "      <td>0.289307</td>\n",
       "      <td>0.115356</td>\n",
       "      <td>0.138550</td>\n",
       "    </tr>\n",
       "    <tr>\n",
       "      <th>83</th>\n",
       "      <td>row_83</td>\n",
       "      <td>11</td>\n",
       "      <td>51</td>\n",
       "      <td>0.75</td>\n",
       "      <td>0.25</td>\n",
       "      <td>1</td>\n",
       "      <td>1.352539</td>\n",
       "      <td>0.078125</td>\n",
       "      <td>0.281982</td>\n",
       "      <td>0.092163</td>\n",
       "      <td>0.121460</td>\n",
       "    </tr>\n",
       "    <tr>\n",
       "      <th>84</th>\n",
       "      <td>row_84</td>\n",
       "      <td>11</td>\n",
       "      <td>54</td>\n",
       "      <td>0.75</td>\n",
       "      <td>0.25</td>\n",
       "      <td>1</td>\n",
       "      <td>1.352539</td>\n",
       "      <td>0.078125</td>\n",
       "      <td>0.310059</td>\n",
       "      <td>0.091553</td>\n",
       "      <td>0.103760</td>\n",
       "    </tr>\n",
       "    <tr>\n",
       "      <th>85</th>\n",
       "      <td>row_85</td>\n",
       "      <td>11</td>\n",
       "      <td>57</td>\n",
       "      <td>0.75</td>\n",
       "      <td>0.25</td>\n",
       "      <td>1</td>\n",
       "      <td>1.396484</td>\n",
       "      <td>0.085449</td>\n",
       "      <td>0.301514</td>\n",
       "      <td>0.095825</td>\n",
       "      <td>0.122681</td>\n",
       "    </tr>\n",
       "    <tr>\n",
       "      <th>86</th>\n",
       "      <td>row_86</td>\n",
       "      <td>11</td>\n",
       "      <td>63</td>\n",
       "      <td>0.75</td>\n",
       "      <td>0.25</td>\n",
       "      <td>1</td>\n",
       "      <td>1.376953</td>\n",
       "      <td>0.092773</td>\n",
       "      <td>0.301514</td>\n",
       "      <td>0.114746</td>\n",
       "      <td>0.137939</td>\n",
       "    </tr>\n",
       "    <tr>\n",
       "      <th>87</th>\n",
       "      <td>row_87</td>\n",
       "      <td>11</td>\n",
       "      <td>67</td>\n",
       "      <td>0.75</td>\n",
       "      <td>0.25</td>\n",
       "      <td>1</td>\n",
       "      <td>1.372070</td>\n",
       "      <td>0.085449</td>\n",
       "      <td>0.274658</td>\n",
       "      <td>0.115967</td>\n",
       "      <td>0.137939</td>\n",
       "    </tr>\n",
       "    <tr>\n",
       "      <th>88</th>\n",
       "      <td>row_88</td>\n",
       "      <td>11</td>\n",
       "      <td>72</td>\n",
       "      <td>0.75</td>\n",
       "      <td>0.25</td>\n",
       "      <td>1</td>\n",
       "      <td>1.406250</td>\n",
       "      <td>0.080566</td>\n",
       "      <td>0.264893</td>\n",
       "      <td>0.117798</td>\n",
       "      <td>0.140991</td>\n",
       "    </tr>\n",
       "    <tr>\n",
       "      <th>89</th>\n",
       "      <td>row_89</td>\n",
       "      <td>11</td>\n",
       "      <td>80</td>\n",
       "      <td>0.75</td>\n",
       "      <td>0.25</td>\n",
       "      <td>1</td>\n",
       "      <td>1.396484</td>\n",
       "      <td>0.078125</td>\n",
       "      <td>0.260010</td>\n",
       "      <td>0.082397</td>\n",
       "      <td>0.106812</td>\n",
       "    </tr>\n",
       "    <tr>\n",
       "      <th>90</th>\n",
       "      <td>row_90</td>\n",
       "      <td>11</td>\n",
       "      <td>86</td>\n",
       "      <td>0.75</td>\n",
       "      <td>0.25</td>\n",
       "      <td>1</td>\n",
       "      <td>1.352539</td>\n",
       "      <td>0.136719</td>\n",
       "      <td>0.267334</td>\n",
       "      <td>0.098877</td>\n",
       "      <td>0.120850</td>\n",
       "    </tr>\n",
       "    <tr>\n",
       "      <th>91</th>\n",
       "      <td>row_91</td>\n",
       "      <td>11</td>\n",
       "      <td>93</td>\n",
       "      <td>0.75</td>\n",
       "      <td>0.25</td>\n",
       "      <td>1</td>\n",
       "      <td>1.376953</td>\n",
       "      <td>0.083008</td>\n",
       "      <td>0.257568</td>\n",
       "      <td>0.111694</td>\n",
       "      <td>0.139771</td>\n",
       "    </tr>\n",
       "    <tr>\n",
       "      <th>92</th>\n",
       "      <td>row_92</td>\n",
       "      <td>11</td>\n",
       "      <td>100</td>\n",
       "      <td>0.75</td>\n",
       "      <td>0.25</td>\n",
       "      <td>1</td>\n",
       "      <td>1.347656</td>\n",
       "      <td>0.073242</td>\n",
       "      <td>0.279541</td>\n",
       "      <td>0.102539</td>\n",
       "      <td>0.133667</td>\n",
       "    </tr>\n",
       "    <tr>\n",
       "      <th>93</th>\n",
       "      <td>row_93</td>\n",
       "      <td>11</td>\n",
       "      <td>105</td>\n",
       "      <td>0.75</td>\n",
       "      <td>0.25</td>\n",
       "      <td>1</td>\n",
       "      <td>1.342773</td>\n",
       "      <td>0.070801</td>\n",
       "      <td>0.261230</td>\n",
       "      <td>0.097656</td>\n",
       "      <td>0.116577</td>\n",
       "    </tr>\n",
       "  </tbody>\n",
       "</table>\n",
       "</div>"
      ],
      "text/plain": [
       "   Unnamed: 0  case  time   DOC  feed  material     smcDC  vib_table  \\\n",
       "71     row_71    11     1  0.75  0.25         1  1.352539   0.070801   \n",
       "72     row_72    11     3  0.75  0.25         1  1.313477   0.070801   \n",
       "73     row_73    11    10  0.75  0.25         1  1.411133   0.070801   \n",
       "74     row_74    11    12  0.75  0.25         1  1.391602   0.061035   \n",
       "75     row_75    11    14  0.75  0.25         1  1.342773   0.065918   \n",
       "76     row_76    11    17  0.75  0.25         1  1.411133   0.070801   \n",
       "77     row_77    11    19  0.75  0.25         1  1.406250   0.068359   \n",
       "78     row_78    11    21  0.75  0.25         1  1.416016   0.065918   \n",
       "79     row_79    11    27  0.75  0.25         1  1.352539   0.063477   \n",
       "80     row_80    11    33  0.75  0.25         1  1.381836   0.070801   \n",
       "81     row_81    11    39  0.75  0.25         1  1.411133   0.068359   \n",
       "82     row_82    11    45  0.75  0.25         1  1.386719   0.078125   \n",
       "83     row_83    11    51  0.75  0.25         1  1.352539   0.078125   \n",
       "84     row_84    11    54  0.75  0.25         1  1.352539   0.078125   \n",
       "85     row_85    11    57  0.75  0.25         1  1.396484   0.085449   \n",
       "86     row_86    11    63  0.75  0.25         1  1.376953   0.092773   \n",
       "87     row_87    11    67  0.75  0.25         1  1.372070   0.085449   \n",
       "88     row_88    11    72  0.75  0.25         1  1.406250   0.080566   \n",
       "89     row_89    11    80  0.75  0.25         1  1.396484   0.078125   \n",
       "90     row_90    11    86  0.75  0.25         1  1.352539   0.136719   \n",
       "91     row_91    11    93  0.75  0.25         1  1.376953   0.083008   \n",
       "92     row_92    11   100  0.75  0.25         1  1.347656   0.073242   \n",
       "93     row_93    11   105  0.75  0.25         1  1.342773   0.070801   \n",
       "\n",
       "    vib_spindle  AE_table  AE_spindle  \n",
       "71     0.289307  0.126953    0.164185  \n",
       "72     0.301514  0.149536    0.181274  \n",
       "73     0.269775  0.092773    0.121460  \n",
       "74     0.286865  0.098877    0.115356  \n",
       "75     0.296631  0.121460    0.144653  \n",
       "76     0.284424  0.101929    0.123901  \n",
       "77     0.274658  0.085449    0.101318  \n",
       "78     0.321045  0.096436    0.115356  \n",
       "79     0.294189  0.106812    0.127563  \n",
       "80     0.290527  0.100708    0.122681  \n",
       "81     0.284424  0.095215    0.108032  \n",
       "82     0.289307  0.115356    0.138550  \n",
       "83     0.281982  0.092163    0.121460  \n",
       "84     0.310059  0.091553    0.103760  \n",
       "85     0.301514  0.095825    0.122681  \n",
       "86     0.301514  0.114746    0.137939  \n",
       "87     0.274658  0.115967    0.137939  \n",
       "88     0.264893  0.117798    0.140991  \n",
       "89     0.260010  0.082397    0.106812  \n",
       "90     0.267334  0.098877    0.120850  \n",
       "91     0.257568  0.111694    0.139771  \n",
       "92     0.279541  0.102539    0.133667  \n",
       "93     0.261230  0.097656    0.116577  "
      ]
     },
     "execution_count": 7,
     "metadata": {},
     "output_type": "execute_result"
    }
   ],
   "source": [
    "df2.drop(columns = ['VB', 'smcAC', 'run'])"
   ]
  },
  {
   "cell_type": "markdown",
   "id": "cb00d1c3",
   "metadata": {},
   "source": [
    "Let us plot the different variables and see how they are behaving as a function of time"
   ]
  },
  {
   "cell_type": "code",
   "execution_count": 8,
   "id": "87b506e0",
   "metadata": {},
   "outputs": [],
   "source": [
    "import matplotlib.pyplot as plt"
   ]
  },
  {
   "cell_type": "code",
   "execution_count": 9,
   "id": "b752d2a7",
   "metadata": {},
   "outputs": [],
   "source": [
    "plot_cols = ['smcDC', 'vib_table', 'vib_spindle', 'AE_table', 'AE_spindle']"
   ]
  },
  {
   "cell_type": "code",
   "execution_count": 10,
   "id": "076d135a",
   "metadata": {},
   "outputs": [
    {
     "data": {
      "image/png": "[encoded data removed]",
      "text/plain": [
       "<Figure size 432x288 with 1 Axes>"
      ]
     },
     "metadata": {
      "needs_background": "light"
     },
     "output_type": "display_data"
    },
    {
     "data": {
      "image/png": "[encoded data removed]",
      "text/plain": [
       "<Figure size 432x288 with 1 Axes>"
      ]
     },
     "metadata": {
      "needs_background": "light"
     },
     "output_type": "display_data"
    },
    {
     "data": {
      "image/png": "[encoded data removed]",
      "text/plain": [
       "<Figure size 432x288 with 1 Axes>"
      ]
     },
     "metadata": {
      "needs_background": "light"
     },
     "output_type": "display_data"
    },
    {
     "data": {
      "image/png": "[encoded data removed]",
      "text/plain": [
       "<Figure size 432x288 with 1 Axes>"
      ]
     },
     "metadata": {
      "needs_background": "light"
     },
     "output_type": "display_data"
    },
    {
     "data": {
      "image/png": "[encoded data removed]",
      "text/plain": [
       "<Figure size 432x288 with 1 Axes>"
      ]
     },
     "metadata": {
      "needs_background": "light"
     },
     "output_type": "display_data"
    }
   ],
   "source": [
    "for col in plot_cols:\n",
    "    plt.plot(df2['time'], df2[col])\n",
    "    plt.show()"
   ]
  },
  {
   "cell_type": "markdown",
   "id": "007406a3",
   "metadata": {},
   "source": [
    "The behavior of acoustic emission sensors at the spindle and the table look somewhat similar. Let's take a closer look. "
   ]
  },
  {
   "cell_type": "code",
   "execution_count": 11,
   "id": "52142dcc",
   "metadata": {},
   "outputs": [
    {
     "data": {
      "image/png": "[encoded data removed]",
      "text/plain": [
       "<Figure size 432x288 with 1 Axes>"
      ]
     },
     "metadata": {
      "needs_background": "light"
     },
     "output_type": "display_data"
    }
   ],
   "source": [
    "plt.plot(df2['time'], df2['AE_table'], label = 'AE_table')\n",
    "plt.plot(df2['time'], df2['AE_spindle'], label = 'AE_spindle')\n",
    "plt.legend()\n",
    "plt.show()\n"
   ]
  },
  {
   "cell_type": "markdown",
   "id": "dc6ea061",
   "metadata": {},
   "source": [
    "It can be inferred from the graphs that acousti emissions experienced by both the sensors are more or less the same in trend. The acoustic emission sensor at the spindle experiences more in magnitude. This makes sense since it is much more closer to where the actual machining is taking place, versus the table sensor which is placed at a farther position. "
   ]
  },
  {
   "cell_type": "markdown",
   "id": "5c26df8c",
   "metadata": {},
   "source": [
    "Let's try to forecast the spindle vibration of case 11. "
   ]
  },
  {
   "cell_type": "markdown",
   "id": "db88e08a",
   "metadata": {},
   "source": [
    "Let us see how the spindle vibration (vib_spindle) time series looks like "
   ]
  },
  {
   "cell_type": "code",
   "execution_count": 12,
   "id": "6cb812e3",
   "metadata": {},
   "outputs": [
    {
     "data": {
      "text/html": [
       "<div>\n",
       "<style scoped>\n",
       "    .dataframe tbody tr th:only-of-type {\n",
       "        vertical-align: middle;\n",
       "    }\n",
       "\n",
       "    .dataframe tbody tr th {\n",
       "        vertical-align: top;\n",
       "    }\n",
       "\n",
       "    .dataframe thead th {\n",
       "        text-align: right;\n",
       "    }\n",
       "</style>\n",
       "<table border=\"1\" class=\"dataframe\">\n",
       "  <thead>\n",
       "    <tr style=\"text-align: right;\">\n",
       "      <th></th>\n",
       "      <th>time</th>\n",
       "      <th>vib_spindle</th>\n",
       "    </tr>\n",
       "  </thead>\n",
       "  <tbody>\n",
       "    <tr>\n",
       "      <th>71</th>\n",
       "      <td>1</td>\n",
       "      <td>0.289307</td>\n",
       "    </tr>\n",
       "    <tr>\n",
       "      <th>72</th>\n",
       "      <td>3</td>\n",
       "      <td>0.301514</td>\n",
       "    </tr>\n",
       "    <tr>\n",
       "      <th>73</th>\n",
       "      <td>10</td>\n",
       "      <td>0.269775</td>\n",
       "    </tr>\n",
       "    <tr>\n",
       "      <th>74</th>\n",
       "      <td>12</td>\n",
       "      <td>0.286865</td>\n",
       "    </tr>\n",
       "    <tr>\n",
       "      <th>75</th>\n",
       "      <td>14</td>\n",
       "      <td>0.296631</td>\n",
       "    </tr>\n",
       "    <tr>\n",
       "      <th>76</th>\n",
       "      <td>17</td>\n",
       "      <td>0.284424</td>\n",
       "    </tr>\n",
       "    <tr>\n",
       "      <th>77</th>\n",
       "      <td>19</td>\n",
       "      <td>0.274658</td>\n",
       "    </tr>\n",
       "    <tr>\n",
       "      <th>78</th>\n",
       "      <td>21</td>\n",
       "      <td>0.321045</td>\n",
       "    </tr>\n",
       "    <tr>\n",
       "      <th>79</th>\n",
       "      <td>27</td>\n",
       "      <td>0.294189</td>\n",
       "    </tr>\n",
       "    <tr>\n",
       "      <th>80</th>\n",
       "      <td>33</td>\n",
       "      <td>0.290527</td>\n",
       "    </tr>\n",
       "    <tr>\n",
       "      <th>81</th>\n",
       "      <td>39</td>\n",
       "      <td>0.284424</td>\n",
       "    </tr>\n",
       "    <tr>\n",
       "      <th>82</th>\n",
       "      <td>45</td>\n",
       "      <td>0.289307</td>\n",
       "    </tr>\n",
       "    <tr>\n",
       "      <th>83</th>\n",
       "      <td>51</td>\n",
       "      <td>0.281982</td>\n",
       "    </tr>\n",
       "    <tr>\n",
       "      <th>84</th>\n",
       "      <td>54</td>\n",
       "      <td>0.310059</td>\n",
       "    </tr>\n",
       "    <tr>\n",
       "      <th>85</th>\n",
       "      <td>57</td>\n",
       "      <td>0.301514</td>\n",
       "    </tr>\n",
       "    <tr>\n",
       "      <th>86</th>\n",
       "      <td>63</td>\n",
       "      <td>0.301514</td>\n",
       "    </tr>\n",
       "    <tr>\n",
       "      <th>87</th>\n",
       "      <td>67</td>\n",
       "      <td>0.274658</td>\n",
       "    </tr>\n",
       "    <tr>\n",
       "      <th>88</th>\n",
       "      <td>72</td>\n",
       "      <td>0.264893</td>\n",
       "    </tr>\n",
       "    <tr>\n",
       "      <th>89</th>\n",
       "      <td>80</td>\n",
       "      <td>0.260010</td>\n",
       "    </tr>\n",
       "    <tr>\n",
       "      <th>90</th>\n",
       "      <td>86</td>\n",
       "      <td>0.267334</td>\n",
       "    </tr>\n",
       "    <tr>\n",
       "      <th>91</th>\n",
       "      <td>93</td>\n",
       "      <td>0.257568</td>\n",
       "    </tr>\n",
       "    <tr>\n",
       "      <th>92</th>\n",
       "      <td>100</td>\n",
       "      <td>0.279541</td>\n",
       "    </tr>\n",
       "    <tr>\n",
       "      <th>93</th>\n",
       "      <td>105</td>\n",
       "      <td>0.261230</td>\n",
       "    </tr>\n",
       "  </tbody>\n",
       "</table>\n",
       "</div>"
      ],
      "text/plain": [
       "    time  vib_spindle\n",
       "71     1     0.289307\n",
       "72     3     0.301514\n",
       "73    10     0.269775\n",
       "74    12     0.286865\n",
       "75    14     0.296631\n",
       "76    17     0.284424\n",
       "77    19     0.274658\n",
       "78    21     0.321045\n",
       "79    27     0.294189\n",
       "80    33     0.290527\n",
       "81    39     0.284424\n",
       "82    45     0.289307\n",
       "83    51     0.281982\n",
       "84    54     0.310059\n",
       "85    57     0.301514\n",
       "86    63     0.301514\n",
       "87    67     0.274658\n",
       "88    72     0.264893\n",
       "89    80     0.260010\n",
       "90    86     0.267334\n",
       "91    93     0.257568\n",
       "92   100     0.279541\n",
       "93   105     0.261230"
      ]
     },
     "execution_count": 12,
     "metadata": {},
     "output_type": "execute_result"
    }
   ],
   "source": [
    "df3_vib_spindle = df2.loc[:, ['time', 'vib_spindle']]\n",
    "\n",
    "df3_vib_spindle\n"
   ]
  },
  {
   "cell_type": "markdown",
   "id": "c10ba7b0",
   "metadata": {},
   "source": [
    "It can be observed that the time series is irregular (observations recorded at irregular time periods). To analyze the time series, it ideal to convert the irregular time series into a regular time series. "
   ]
  },
  {
   "cell_type": "markdown",
   "id": "2dab4a87",
   "metadata": {},
   "source": [
    "Converting the existing time series into the pandas' date-time format."
   ]
  },
  {
   "cell_type": "code",
   "execution_count": 13,
   "id": "d5528615",
   "metadata": {},
   "outputs": [],
   "source": [
    "df3_vib_spindle.set_index(pd.to_datetime(df3_vib_spindle['time'], unit='s'), inplace=True)\n",
    "df3_vib_spindle.drop('time', axis=1, inplace=True)\n"
   ]
  },
  {
   "cell_type": "code",
   "execution_count": 14,
   "id": "37f619b9",
   "metadata": {},
   "outputs": [
    {
     "data": {
      "text/html": [
       "<div>\n",
       "<style scoped>\n",
       "    .dataframe tbody tr th:only-of-type {\n",
       "        vertical-align: middle;\n",
       "    }\n",
       "\n",
       "    .dataframe tbody tr th {\n",
       "        vertical-align: top;\n",
       "    }\n",
       "\n",
       "    .dataframe thead th {\n",
       "        text-align: right;\n",
       "    }\n",
       "</style>\n",
       "<table border=\"1\" class=\"dataframe\">\n",
       "  <thead>\n",
       "    <tr style=\"text-align: right;\">\n",
       "      <th></th>\n",
       "      <th>vib_spindle</th>\n",
       "    </tr>\n",
       "    <tr>\n",
       "      <th>time</th>\n",
       "      <th></th>\n",
       "    </tr>\n",
       "  </thead>\n",
       "  <tbody>\n",
       "    <tr>\n",
       "      <th>1970-01-01 00:00:01</th>\n",
       "      <td>0.289307</td>\n",
       "    </tr>\n",
       "    <tr>\n",
       "      <th>1970-01-01 00:00:03</th>\n",
       "      <td>0.301514</td>\n",
       "    </tr>\n",
       "    <tr>\n",
       "      <th>1970-01-01 00:00:10</th>\n",
       "      <td>0.269775</td>\n",
       "    </tr>\n",
       "    <tr>\n",
       "      <th>1970-01-01 00:00:12</th>\n",
       "      <td>0.286865</td>\n",
       "    </tr>\n",
       "    <tr>\n",
       "      <th>1970-01-01 00:00:14</th>\n",
       "      <td>0.296631</td>\n",
       "    </tr>\n",
       "    <tr>\n",
       "      <th>1970-01-01 00:00:17</th>\n",
       "      <td>0.284424</td>\n",
       "    </tr>\n",
       "    <tr>\n",
       "      <th>1970-01-01 00:00:19</th>\n",
       "      <td>0.274658</td>\n",
       "    </tr>\n",
       "    <tr>\n",
       "      <th>1970-01-01 00:00:21</th>\n",
       "      <td>0.321045</td>\n",
       "    </tr>\n",
       "    <tr>\n",
       "      <th>1970-01-01 00:00:27</th>\n",
       "      <td>0.294189</td>\n",
       "    </tr>\n",
       "    <tr>\n",
       "      <th>1970-01-01 00:00:33</th>\n",
       "      <td>0.290527</td>\n",
       "    </tr>\n",
       "    <tr>\n",
       "      <th>1970-01-01 00:00:39</th>\n",
       "      <td>0.284424</td>\n",
       "    </tr>\n",
       "    <tr>\n",
       "      <th>1970-01-01 00:00:45</th>\n",
       "      <td>0.289307</td>\n",
       "    </tr>\n",
       "    <tr>\n",
       "      <th>1970-01-01 00:00:51</th>\n",
       "      <td>0.281982</td>\n",
       "    </tr>\n",
       "    <tr>\n",
       "      <th>1970-01-01 00:00:54</th>\n",
       "      <td>0.310059</td>\n",
       "    </tr>\n",
       "    <tr>\n",
       "      <th>1970-01-01 00:00:57</th>\n",
       "      <td>0.301514</td>\n",
       "    </tr>\n",
       "    <tr>\n",
       "      <th>1970-01-01 00:01:03</th>\n",
       "      <td>0.301514</td>\n",
       "    </tr>\n",
       "    <tr>\n",
       "      <th>1970-01-01 00:01:07</th>\n",
       "      <td>0.274658</td>\n",
       "    </tr>\n",
       "    <tr>\n",
       "      <th>1970-01-01 00:01:12</th>\n",
       "      <td>0.264893</td>\n",
       "    </tr>\n",
       "    <tr>\n",
       "      <th>1970-01-01 00:01:20</th>\n",
       "      <td>0.260010</td>\n",
       "    </tr>\n",
       "    <tr>\n",
       "      <th>1970-01-01 00:01:26</th>\n",
       "      <td>0.267334</td>\n",
       "    </tr>\n",
       "    <tr>\n",
       "      <th>1970-01-01 00:01:33</th>\n",
       "      <td>0.257568</td>\n",
       "    </tr>\n",
       "    <tr>\n",
       "      <th>1970-01-01 00:01:40</th>\n",
       "      <td>0.279541</td>\n",
       "    </tr>\n",
       "    <tr>\n",
       "      <th>1970-01-01 00:01:45</th>\n",
       "      <td>0.261230</td>\n",
       "    </tr>\n",
       "  </tbody>\n",
       "</table>\n",
       "</div>"
      ],
      "text/plain": [
       "                     vib_spindle\n",
       "time                            \n",
       "1970-01-01 00:00:01     0.289307\n",
       "1970-01-01 00:00:03     0.301514\n",
       "1970-01-01 00:00:10     0.269775\n",
       "1970-01-01 00:00:12     0.286865\n",
       "1970-01-01 00:00:14     0.296631\n",
       "1970-01-01 00:00:17     0.284424\n",
       "1970-01-01 00:00:19     0.274658\n",
       "1970-01-01 00:00:21     0.321045\n",
       "1970-01-01 00:00:27     0.294189\n",
       "1970-01-01 00:00:33     0.290527\n",
       "1970-01-01 00:00:39     0.284424\n",
       "1970-01-01 00:00:45     0.289307\n",
       "1970-01-01 00:00:51     0.281982\n",
       "1970-01-01 00:00:54     0.310059\n",
       "1970-01-01 00:00:57     0.301514\n",
       "1970-01-01 00:01:03     0.301514\n",
       "1970-01-01 00:01:07     0.274658\n",
       "1970-01-01 00:01:12     0.264893\n",
       "1970-01-01 00:01:20     0.260010\n",
       "1970-01-01 00:01:26     0.267334\n",
       "1970-01-01 00:01:33     0.257568\n",
       "1970-01-01 00:01:40     0.279541\n",
       "1970-01-01 00:01:45     0.261230"
      ]
     },
     "execution_count": 14,
     "metadata": {},
     "output_type": "execute_result"
    }
   ],
   "source": [
    "df3_vib_spindle"
   ]
  },
  {
   "cell_type": "markdown",
   "id": "44621303",
   "metadata": {},
   "source": [
    "Now, the time series will be converted to a time series with regular intervals via the 'resample' method. The time series is converted to a series with time period as 1 second. The intermediate gaps are filled with the linear interpolation numerical method."
   ]
  },
  {
   "cell_type": "code",
   "execution_count": 15,
   "id": "0a41aa0d",
   "metadata": {},
   "outputs": [
    {
     "data": {
      "text/html": [
       "<div>\n",
       "<style scoped>\n",
       "    .dataframe tbody tr th:only-of-type {\n",
       "        vertical-align: middle;\n",
       "    }\n",
       "\n",
       "    .dataframe tbody tr th {\n",
       "        vertical-align: top;\n",
       "    }\n",
       "\n",
       "    .dataframe thead th {\n",
       "        text-align: right;\n",
       "    }\n",
       "</style>\n",
       "<table border=\"1\" class=\"dataframe\">\n",
       "  <thead>\n",
       "    <tr style=\"text-align: right;\">\n",
       "      <th></th>\n",
       "      <th>vib_spindle</th>\n",
       "    </tr>\n",
       "    <tr>\n",
       "      <th>time</th>\n",
       "      <th></th>\n",
       "    </tr>\n",
       "  </thead>\n",
       "  <tbody>\n",
       "    <tr>\n",
       "      <th>1970-01-01 00:00:01</th>\n",
       "      <td>0.289307</td>\n",
       "    </tr>\n",
       "    <tr>\n",
       "      <th>1970-01-01 00:00:02</th>\n",
       "      <td>0.295410</td>\n",
       "    </tr>\n",
       "    <tr>\n",
       "      <th>1970-01-01 00:00:03</th>\n",
       "      <td>0.301514</td>\n",
       "    </tr>\n",
       "    <tr>\n",
       "      <th>1970-01-01 00:00:04</th>\n",
       "      <td>0.296980</td>\n",
       "    </tr>\n",
       "    <tr>\n",
       "      <th>1970-01-01 00:00:05</th>\n",
       "      <td>0.292446</td>\n",
       "    </tr>\n",
       "    <tr>\n",
       "      <th>...</th>\n",
       "      <td>...</td>\n",
       "    </tr>\n",
       "    <tr>\n",
       "      <th>1970-01-01 00:01:41</th>\n",
       "      <td>0.275879</td>\n",
       "    </tr>\n",
       "    <tr>\n",
       "      <th>1970-01-01 00:01:42</th>\n",
       "      <td>0.272217</td>\n",
       "    </tr>\n",
       "    <tr>\n",
       "      <th>1970-01-01 00:01:43</th>\n",
       "      <td>0.268555</td>\n",
       "    </tr>\n",
       "    <tr>\n",
       "      <th>1970-01-01 00:01:44</th>\n",
       "      <td>0.264893</td>\n",
       "    </tr>\n",
       "    <tr>\n",
       "      <th>1970-01-01 00:01:45</th>\n",
       "      <td>0.261230</td>\n",
       "    </tr>\n",
       "  </tbody>\n",
       "</table>\n",
       "<p>105 rows × 1 columns</p>\n",
       "</div>"
      ],
      "text/plain": [
       "                     vib_spindle\n",
       "time                            \n",
       "1970-01-01 00:00:01     0.289307\n",
       "1970-01-01 00:00:02     0.295410\n",
       "1970-01-01 00:00:03     0.301514\n",
       "1970-01-01 00:00:04     0.296980\n",
       "1970-01-01 00:00:05     0.292446\n",
       "...                          ...\n",
       "1970-01-01 00:01:41     0.275879\n",
       "1970-01-01 00:01:42     0.272217\n",
       "1970-01-01 00:01:43     0.268555\n",
       "1970-01-01 00:01:44     0.264893\n",
       "1970-01-01 00:01:45     0.261230\n",
       "\n",
       "[105 rows x 1 columns]"
      ]
     },
     "execution_count": 15,
     "metadata": {},
     "output_type": "execute_result"
    }
   ],
   "source": [
    "df3_vib_spindle_resampled = df3_vib_spindle.resample('1S').interpolate(method = 'linear')\n",
    "\n",
    "df3_vib_spindle_resampled"
   ]
  },
  {
   "cell_type": "markdown",
   "id": "e80d0087",
   "metadata": {},
   "source": [
    "Let's see how the resampled time series looks like. "
   ]
  },
  {
   "cell_type": "code",
   "execution_count": 16,
   "id": "ce395105",
   "metadata": {},
   "outputs": [
    {
     "data": {
      "text/plain": [
       "[<matplotlib.lines.Line2D at 0x1bdcdeb9130>]"
      ]
     },
     "execution_count": 16,
     "metadata": {},
     "output_type": "execute_result"
    },
    {
     "data": {
      "image/png": "[encoded data removed]",
      "text/plain": [
       "<Figure size 432x288 with 1 Axes>"
      ]
     },
     "metadata": {
      "needs_background": "light"
     },
     "output_type": "display_data"
    }
   ],
   "source": [
    "plt.plot(df3_vib_spindle_resampled['vib_spindle'] )"
   ]
  },
  {
   "cell_type": "markdown",
   "id": "7e18bb49",
   "metadata": {},
   "source": [
    "Let us see if the time series has some seasonal or residual components to it via additive seasonal decomposition"
   ]
  },
  {
   "cell_type": "code",
   "execution_count": 17,
   "id": "2c469737",
   "metadata": {},
   "outputs": [],
   "source": [
    "from statsmodels.tsa.seasonal import seasonal_decompose\n"
   ]
  },
  {
   "cell_type": "code",
   "execution_count": 18,
   "id": "f1e114c0",
   "metadata": {},
   "outputs": [],
   "source": [
    "vib_spindle_seasonal_decomp = seasonal_decompose(df3_vib_spindle_resampled['vib_spindle'], model = 'additive',period = 1)"
   ]
  },
  {
   "cell_type": "code",
   "execution_count": 19,
   "id": "188fd7e3",
   "metadata": {
    "scrolled": true
   },
   "outputs": [
    {
     "data": {
      "image/png": "[encoded data removed]",
      "text/plain": [
       "<Figure size 432x288 with 4 Axes>"
      ]
     },
     "execution_count": 19,
     "metadata": {},
     "output_type": "execute_result"
    },
    {
     "data": {
      "image/png": "[encoded data removed]",
      "text/plain": [
       "<Figure size 432x288 with 4 Axes>"
      ]
     },
     "metadata": {
      "needs_background": "light"
     },
     "output_type": "display_data"
    }
   ],
   "source": [
    "vib_spindle_seasonal_decomp.plot()"
   ]
  },
  {
   "cell_type": "markdown",
   "id": "c085fc3b",
   "metadata": {},
   "source": [
    "We can see that there is no seasonal or residual component to this time series. "
   ]
  },
  {
   "cell_type": "markdown",
   "id": "8cca98d9",
   "metadata": {},
   "source": [
    "In order to evaluate a forecasting model, it is a good idea to compare it to a baseline forecasting model. In the following steps, a baseline forecasting model is made on the basis of the historical training set's mean. "
   ]
  },
  {
   "cell_type": "markdown",
   "id": "2ed3491d",
   "metadata": {},
   "source": [
    "Splitting the time series into a training set and test set (80:20) split."
   ]
  },
  {
   "cell_type": "code",
   "execution_count": 20,
   "id": "256a942d",
   "metadata": {},
   "outputs": [],
   "source": [
    "train = df3_vib_spindle_resampled[: 84]\n",
    "test = df3_vib_spindle_resampled[84 :]\n"
   ]
  },
  {
   "cell_type": "code",
   "execution_count": 21,
   "id": "2facb8dc",
   "metadata": {},
   "outputs": [],
   "source": [
    "import numpy as np"
   ]
  },
  {
   "cell_type": "code",
   "execution_count": 22,
   "id": "89f34468",
   "metadata": {},
   "outputs": [
    {
     "data": {
      "text/plain": [
       "0.28641473679315477"
      ]
     },
     "execution_count": 22,
     "metadata": {},
     "output_type": "execute_result"
    }
   ],
   "source": [
    "historical_mean = np.mean(train['vib_spindle'])\n",
    "\n",
    "historical_mean"
   ]
  },
  {
   "cell_type": "code",
   "execution_count": 23,
   "id": "eb2025ef",
   "metadata": {},
   "outputs": [
    {
     "name": "stderr",
     "output_type": "stream",
     "text": [
      "C:\\Users\\ragha\\anaconda3\\lib\\site-packages\\pandas\\core\\indexing.py:1667: SettingWithCopyWarning: \n",
      "A value is trying to be set on a copy of a slice from a DataFrame.\n",
      "Try using .loc[row_indexer,col_indexer] = value instead\n",
      "\n",
      "See the caveats in the documentation: https://pandas.pydata.org/pandas-docs/stable/user_guide/indexing.html#returning-a-view-versus-a-copy\n",
      "  self.obj[key] = value\n"
     ]
    }
   ],
   "source": [
    "test.loc[:, 'pred_mean'] = historical_mean"
   ]
  },
  {
   "cell_type": "markdown",
   "id": "30109f3d",
   "metadata": {},
   "source": [
    "Mean average percentage is a great metric to evaluate our baseline mean value model. Let's write a function to calculate it between our true and predicted values.  "
   ]
  },
  {
   "cell_type": "code",
   "execution_count": 24,
   "id": "9ba8fee4",
   "metadata": {},
   "outputs": [],
   "source": [
    "def mape(y_true, y_pred):\n",
    "    \n",
    "    return np.mean((np.abs(y_true - y_pred)/y_true)) * 100"
   ]
  },
  {
   "cell_type": "code",
   "execution_count": 25,
   "id": "0169665e",
   "metadata": {},
   "outputs": [
    {
     "name": "stdout",
     "output_type": "stream",
     "text": [
      "7.470053126994514\n"
     ]
    }
   ],
   "source": [
    "mape_hist_mean = mape(test['vib_spindle'], test['pred_mean'])\n",
    "print(mape_hist_mean)"
   ]
  },
  {
   "cell_type": "markdown",
   "id": "dd7beffa",
   "metadata": {},
   "source": [
    "The Mean average percentage error for our baseline mean-value model is 7.47%"
   ]
  },
  {
   "cell_type": "markdown",
   "id": "880abc4f",
   "metadata": {},
   "source": [
    "Let us visualize our model"
   ]
  },
  {
   "cell_type": "code",
   "execution_count": 26,
   "id": "2dcadee0",
   "metadata": {},
   "outputs": [
    {
     "data": {
      "text/plain": [
       "[]"
      ]
     },
     "execution_count": 26,
     "metadata": {},
     "output_type": "execute_result"
    },
    {
     "data": {
      "image/png": "[encoded data removed]",
      "text/plain": [
       "<Figure size 432x288 with 1 Axes>"
      ]
     },
     "metadata": {
      "needs_background": "light"
     },
     "output_type": "display_data"
    }
   ],
   "source": [
    "fig, ax = plt.subplots()\n",
    "\n",
    "ax.plot(train['vib_spindle'], 'g-', label = 'Train')\n",
    "ax.plot(test['vib_spindle'], 'b-', label = 'Test')\n",
    "ax.plot(test['pred_mean'], 'r--', label = 'Predicted')\n",
    "ax.legend(loc = 2)\n",
    "\n",
    "plt.plot()"
   ]
  },
  {
   "cell_type": "markdown",
   "id": "c43c0f57",
   "metadata": {},
   "source": [
    "It can be observed from the graph that the trend is decreasing over a period of time. So, the baseline model based on the mean of the training set might not be the optimum baseline model. Let;s make a baseline model based on the last value of the training set."
   ]
  },
  {
   "cell_type": "code",
   "execution_count": 27,
   "id": "d2d0f494",
   "metadata": {},
   "outputs": [
    {
     "data": {
      "text/plain": [
       "0.264892578125"
      ]
     },
     "execution_count": 27,
     "metadata": {},
     "output_type": "execute_result"
    }
   ],
   "source": [
    "last = train['vib_spindle'].iloc[-1]\n",
    "\n",
    "last"
   ]
  },
  {
   "cell_type": "code",
   "execution_count": 28,
   "id": "a67fc810",
   "metadata": {},
   "outputs": [],
   "source": [
    "test.loc[:, 'pred_last'] = last"
   ]
  },
  {
   "cell_type": "code",
   "execution_count": 29,
   "id": "f32381c0",
   "metadata": {},
   "outputs": [
    {
     "data": {
      "text/plain": [
       "1.7743801818596072"
      ]
     },
     "execution_count": 29,
     "metadata": {},
     "output_type": "execute_result"
    }
   ],
   "source": [
    "mape_last = mape(test['vib_spindle'], test['pred_last'])\n",
    "\n",
    "mape_last"
   ]
  },
  {
   "cell_type": "markdown",
   "id": "8167ba68",
   "metadata": {},
   "source": [
    "The new baseline model performs better than the historical mean baseline model with an improved mean average percentage error of 1.77%"
   ]
  },
  {
   "cell_type": "markdown",
   "id": "b8f269d4",
   "metadata": {},
   "source": [
    "Let us plot the new baseline model"
   ]
  },
  {
   "cell_type": "code",
   "execution_count": 30,
   "id": "9db51206",
   "metadata": {},
   "outputs": [
    {
     "data": {
      "text/plain": [
       "[]"
      ]
     },
     "execution_count": 30,
     "metadata": {},
     "output_type": "execute_result"
    },
    {
     "data": {
      "image/png": "[encoded data removed]",
      "text/plain": [
       "<Figure size 432x288 with 1 Axes>"
      ]
     },
     "metadata": {
      "needs_background": "light"
     },
     "output_type": "display_data"
    }
   ],
   "source": [
    "fig, ax = plt.subplots()\n",
    "\n",
    "ax.plot(train['vib_spindle'], 'g-', label = 'Train')\n",
    "ax.plot(test['vib_spindle'], 'b-', label = 'Test')\n",
    "ax.plot(test['pred_last'], 'r--', label = 'Predicted')\n",
    "ax.legend(loc = 2)\n",
    "\n",
    "plt.plot()"
   ]
  },
  {
   "cell_type": "markdown",
   "id": "bab3fd93",
   "metadata": {},
   "source": [
    "Let us see if we can make a forecasting model that outperforms our baseline. Before that let's do some statistical analyses, namely performing the ad-fuller test and determining the p-value of the time series as a function of time. The goal is to determine whether the time series is stationary or not."
   ]
  },
  {
   "cell_type": "markdown",
   "id": "7c3c8934",
   "metadata": {},
   "source": [
    "Let's determine the ad-fuller statistics and the p-value for our time-series"
   ]
  },
  {
   "cell_type": "code",
   "execution_count": 31,
   "id": "cba0c43d",
   "metadata": {},
   "outputs": [],
   "source": [
    "from statsmodels.tsa.stattools import adfuller"
   ]
  },
  {
   "cell_type": "code",
   "execution_count": 32,
   "id": "78327529",
   "metadata": {},
   "outputs": [
    {
     "name": "stdout",
     "output_type": "stream",
     "text": [
      "ADF statistic: -1.9066453259812026\n",
      "p-value: 0.32894142658345893\n"
     ]
    }
   ],
   "source": [
    "ADF_result = adfuller(df3_vib_spindle_resampled['vib_spindle'])\n",
    "print(f'ADF statistic: {ADF_result[0]}' )\n",
    "print(f'p-value: {ADF_result[1]}' )"
   ]
  },
  {
   "cell_type": "markdown",
   "id": "6c81a3a3",
   "metadata": {},
   "source": [
    "Since the p-value is greater than 0.05, we have failed to reject the null-hypothesis that the time series is stationary, meaning the time series is non-stationary.\n",
    "\n",
    "In an attempt to make it stationary, let's do first-order differencing."
   ]
  },
  {
   "cell_type": "code",
   "execution_count": 33,
   "id": "fd07bba1",
   "metadata": {},
   "outputs": [],
   "source": [
    "#First order differencing\n",
    "df4 = df3_vib_spindle_resampled['vib_spindle'].diff()\n",
    "\n",
    "df4\n",
    "\n",
    "df4 = df4[1:]\n"
   ]
  },
  {
   "cell_type": "code",
   "execution_count": 34,
   "id": "cd104bc5",
   "metadata": {},
   "outputs": [
    {
     "data": {
      "text/plain": [
       "time\n",
       "1970-01-01 00:00:02    0.006104\n",
       "1970-01-01 00:00:03    0.006104\n",
       "1970-01-01 00:00:04   -0.004534\n",
       "1970-01-01 00:00:05   -0.004534\n",
       "1970-01-01 00:00:06   -0.004534\n",
       "                         ...   \n",
       "1970-01-01 00:01:41   -0.003662\n",
       "1970-01-01 00:01:42   -0.003662\n",
       "1970-01-01 00:01:43   -0.003662\n",
       "1970-01-01 00:01:44   -0.003662\n",
       "1970-01-01 00:01:45   -0.003662\n",
       "Freq: S, Name: vib_spindle, Length: 104, dtype: float64"
      ]
     },
     "execution_count": 34,
     "metadata": {},
     "output_type": "execute_result"
    }
   ],
   "source": [
    "df4"
   ]
  },
  {
   "cell_type": "code",
   "execution_count": 35,
   "id": "23be1195",
   "metadata": {},
   "outputs": [],
   "source": [
    "df4 = df4.to_frame().reset_index()"
   ]
  },
  {
   "cell_type": "code",
   "execution_count": 36,
   "id": "96a3d469",
   "metadata": {},
   "outputs": [],
   "source": [
    "df4 = df4.rename(columns = {0: 'list'})\n",
    "df4.index.name = 'index'"
   ]
  },
  {
   "cell_type": "code",
   "execution_count": 37,
   "id": "e0a8b08e",
   "metadata": {},
   "outputs": [
    {
     "data": {
      "text/html": [
       "<div>\n",
       "<style scoped>\n",
       "    .dataframe tbody tr th:only-of-type {\n",
       "        vertical-align: middle;\n",
       "    }\n",
       "\n",
       "    .dataframe tbody tr th {\n",
       "        vertical-align: top;\n",
       "    }\n",
       "\n",
       "    .dataframe thead th {\n",
       "        text-align: right;\n",
       "    }\n",
       "</style>\n",
       "<table border=\"1\" class=\"dataframe\">\n",
       "  <thead>\n",
       "    <tr style=\"text-align: right;\">\n",
       "      <th></th>\n",
       "      <th>time</th>\n",
       "      <th>vib_spindle</th>\n",
       "    </tr>\n",
       "    <tr>\n",
       "      <th>index</th>\n",
       "      <th></th>\n",
       "      <th></th>\n",
       "    </tr>\n",
       "  </thead>\n",
       "  <tbody>\n",
       "    <tr>\n",
       "      <th>0</th>\n",
       "      <td>1970-01-01 00:00:02</td>\n",
       "      <td>0.006104</td>\n",
       "    </tr>\n",
       "    <tr>\n",
       "      <th>1</th>\n",
       "      <td>1970-01-01 00:00:03</td>\n",
       "      <td>0.006104</td>\n",
       "    </tr>\n",
       "    <tr>\n",
       "      <th>2</th>\n",
       "      <td>1970-01-01 00:00:04</td>\n",
       "      <td>-0.004534</td>\n",
       "    </tr>\n",
       "    <tr>\n",
       "      <th>3</th>\n",
       "      <td>1970-01-01 00:00:05</td>\n",
       "      <td>-0.004534</td>\n",
       "    </tr>\n",
       "    <tr>\n",
       "      <th>4</th>\n",
       "      <td>1970-01-01 00:00:06</td>\n",
       "      <td>-0.004534</td>\n",
       "    </tr>\n",
       "    <tr>\n",
       "      <th>...</th>\n",
       "      <td>...</td>\n",
       "      <td>...</td>\n",
       "    </tr>\n",
       "    <tr>\n",
       "      <th>99</th>\n",
       "      <td>1970-01-01 00:01:41</td>\n",
       "      <td>-0.003662</td>\n",
       "    </tr>\n",
       "    <tr>\n",
       "      <th>100</th>\n",
       "      <td>1970-01-01 00:01:42</td>\n",
       "      <td>-0.003662</td>\n",
       "    </tr>\n",
       "    <tr>\n",
       "      <th>101</th>\n",
       "      <td>1970-01-01 00:01:43</td>\n",
       "      <td>-0.003662</td>\n",
       "    </tr>\n",
       "    <tr>\n",
       "      <th>102</th>\n",
       "      <td>1970-01-01 00:01:44</td>\n",
       "      <td>-0.003662</td>\n",
       "    </tr>\n",
       "    <tr>\n",
       "      <th>103</th>\n",
       "      <td>1970-01-01 00:01:45</td>\n",
       "      <td>-0.003662</td>\n",
       "    </tr>\n",
       "  </tbody>\n",
       "</table>\n",
       "<p>104 rows × 2 columns</p>\n",
       "</div>"
      ],
      "text/plain": [
       "                     time  vib_spindle\n",
       "index                                 \n",
       "0     1970-01-01 00:00:02     0.006104\n",
       "1     1970-01-01 00:00:03     0.006104\n",
       "2     1970-01-01 00:00:04    -0.004534\n",
       "3     1970-01-01 00:00:05    -0.004534\n",
       "4     1970-01-01 00:00:06    -0.004534\n",
       "...                   ...          ...\n",
       "99    1970-01-01 00:01:41    -0.003662\n",
       "100   1970-01-01 00:01:42    -0.003662\n",
       "101   1970-01-01 00:01:43    -0.003662\n",
       "102   1970-01-01 00:01:44    -0.003662\n",
       "103   1970-01-01 00:01:45    -0.003662\n",
       "\n",
       "[104 rows x 2 columns]"
      ]
     },
     "execution_count": 37,
     "metadata": {},
     "output_type": "execute_result"
    }
   ],
   "source": [
    "df4"
   ]
  },
  {
   "cell_type": "markdown",
   "id": "dcf0e2ba",
   "metadata": {},
   "source": [
    "The p-value has gotten really low. Which means our time-series is now stationary. Now, we can use it for further analysis."
   ]
  },
  {
   "cell_type": "code",
   "execution_count": 38,
   "id": "d5cc2921",
   "metadata": {},
   "outputs": [
    {
     "name": "stdout",
     "output_type": "stream",
     "text": [
      "ADF statistic: -7.295304581462539\n",
      "p-value: 1.3829646588434805e-10\n"
     ]
    }
   ],
   "source": [
    "\n",
    "ADF_result_diff = adfuller(df4['vib_spindle'])\n",
    "print(f'ADF statistic: {ADF_result_diff[0]}' )\n",
    "print(f'p-value: {ADF_result_diff[1]}' )"
   ]
  },
  {
   "cell_type": "markdown",
   "id": "b9098d65",
   "metadata": {},
   "source": [
    "Plotting the Autocorrelation function"
   ]
  },
  {
   "cell_type": "code",
   "execution_count": 39,
   "id": "8850f70b",
   "metadata": {},
   "outputs": [
    {
     "data": {
      "image/png": "[encoded data removed]",
      "text/plain": [
       "<Figure size 432x288 with 1 Axes>"
      ]
     },
     "execution_count": 39,
     "metadata": {},
     "output_type": "execute_result"
    },
    {
     "data": {
      "image/png": "[encoded data removed]",
      "text/plain": [
       "<Figure size 432x288 with 1 Axes>"
      ]
     },
     "metadata": {
      "needs_background": "light"
     },
     "output_type": "display_data"
    }
   ],
   "source": [
    "from statsmodels.graphics.tsaplots import plot_acf\n",
    "\n",
    "plot_acf(df4['vib_spindle'], lags = 50)"
   ]
  },
  {
   "cell_type": "markdown",
   "id": "16cfba26",
   "metadata": {},
   "source": [
    "There is first order correlation as per the graph above. "
   ]
  },
  {
   "cell_type": "markdown",
   "id": "a34b9c32",
   "metadata": {},
   "source": [
    "Let us now perform forecasting using a moving average model. Splitting the dataset into a training and test set using a 80:20 split."
   ]
  },
  {
   "cell_type": "code",
   "execution_count": 40,
   "id": "e925e25f",
   "metadata": {},
   "outputs": [
    {
     "name": "stdout",
     "output_type": "stream",
     "text": [
      "83\n",
      "21\n"
     ]
    }
   ],
   "source": [
    "train_diff = df4[: (int(len(df4)*0.8))]\n",
    "test_diff = df4[(int(len(df4)*0.8)) :]\n",
    "\n",
    "print(len(train_diff))\n",
    "print(len(test_diff))"
   ]
  },
  {
   "cell_type": "code",
   "execution_count": 41,
   "id": "8b6385d6",
   "metadata": {},
   "outputs": [],
   "source": [
    "from statsmodels.tsa.statespace.sarimax import SARIMAX\n"
   ]
  },
  {
   "cell_type": "code",
   "execution_count": 42,
   "id": "7f10c66f",
   "metadata": {},
   "outputs": [],
   "source": [
    "def rolling_forecast(df:pd.DataFrame, train_len: int, horizon: int, window: int):\n",
    "    \n",
    "    total_len = train_len + horizon\n",
    "    \n",
    "    pred_MA = []\n",
    "    \n",
    "    for i in range(train_len, total_len, window):\n",
    "        model = SARIMAX(df[:i], order = (0,0,1))\n",
    "        res = model.fit(disp = False)\n",
    "        predictions = res.get_prediction(0, i + window - 1)\n",
    "        oos_pred = predictions.predicted_mean.iloc[-window:]\n",
    "        pred_MA.extend(oos_pred)\n",
    "        \n",
    "    return pred_MA"
   ]
  },
  {
   "cell_type": "code",
   "execution_count": 43,
   "id": "edc3fa04",
   "metadata": {},
   "outputs": [
    {
     "name": "stderr",
     "output_type": "stream",
     "text": [
      "C:\\Users\\ragha\\anaconda3\\lib\\site-packages\\statsmodels\\base\\model.py:566: ConvergenceWarning: Maximum Likelihood optimization failed to converge. Check mle_retvals\n",
      "  warnings.warn(\"Maximum Likelihood optimization failed to \"\n",
      "C:\\Users\\ragha\\anaconda3\\lib\\site-packages\\statsmodels\\base\\model.py:566: ConvergenceWarning: Maximum Likelihood optimization failed to converge. Check mle_retvals\n",
      "  warnings.warn(\"Maximum Likelihood optimization failed to \"\n",
      "C:\\Users\\ragha\\anaconda3\\lib\\site-packages\\statsmodels\\base\\model.py:566: ConvergenceWarning: Maximum Likelihood optimization failed to converge. Check mle_retvals\n",
      "  warnings.warn(\"Maximum Likelihood optimization failed to \"\n",
      "C:\\Users\\ragha\\anaconda3\\lib\\site-packages\\statsmodels\\base\\model.py:566: ConvergenceWarning: Maximum Likelihood optimization failed to converge. Check mle_retvals\n",
      "  warnings.warn(\"Maximum Likelihood optimization failed to \"\n",
      "C:\\Users\\ragha\\anaconda3\\lib\\site-packages\\statsmodels\\base\\model.py:566: ConvergenceWarning: Maximum Likelihood optimization failed to converge. Check mle_retvals\n",
      "  warnings.warn(\"Maximum Likelihood optimization failed to \"\n"
     ]
    },
    {
     "data": {
      "text/html": [
       "<div>\n",
       "<style scoped>\n",
       "    .dataframe tbody tr th:only-of-type {\n",
       "        vertical-align: middle;\n",
       "    }\n",
       "\n",
       "    .dataframe tbody tr th {\n",
       "        vertical-align: top;\n",
       "    }\n",
       "\n",
       "    .dataframe thead th {\n",
       "        text-align: right;\n",
       "    }\n",
       "</style>\n",
       "<table border=\"1\" class=\"dataframe\">\n",
       "  <thead>\n",
       "    <tr style=\"text-align: right;\">\n",
       "      <th></th>\n",
       "      <th>time</th>\n",
       "      <th>vib_spindle</th>\n",
       "      <th>pred_MA</th>\n",
       "    </tr>\n",
       "    <tr>\n",
       "      <th>index</th>\n",
       "      <th></th>\n",
       "      <th></th>\n",
       "      <th></th>\n",
       "    </tr>\n",
       "  </thead>\n",
       "  <tbody>\n",
       "    <tr>\n",
       "      <th>83</th>\n",
       "      <td>1970-01-01 00:01:25</td>\n",
       "      <td>0.001221</td>\n",
       "      <td>0.000347</td>\n",
       "    </tr>\n",
       "    <tr>\n",
       "      <th>84</th>\n",
       "      <td>1970-01-01 00:01:26</td>\n",
       "      <td>0.001221</td>\n",
       "      <td>0.000574</td>\n",
       "    </tr>\n",
       "    <tr>\n",
       "      <th>85</th>\n",
       "      <td>1970-01-01 00:01:27</td>\n",
       "      <td>-0.001395</td>\n",
       "      <td>0.000425</td>\n",
       "    </tr>\n",
       "    <tr>\n",
       "      <th>86</th>\n",
       "      <td>1970-01-01 00:01:28</td>\n",
       "      <td>-0.001395</td>\n",
       "      <td>-0.001193</td>\n",
       "    </tr>\n",
       "    <tr>\n",
       "      <th>87</th>\n",
       "      <td>1970-01-01 00:01:29</td>\n",
       "      <td>-0.001395</td>\n",
       "      <td>-0.000132</td>\n",
       "    </tr>\n",
       "  </tbody>\n",
       "</table>\n",
       "</div>"
      ],
      "text/plain": [
       "                     time  vib_spindle   pred_MA\n",
       "index                                           \n",
       "83    1970-01-01 00:01:25     0.001221  0.000347\n",
       "84    1970-01-01 00:01:26     0.001221  0.000574\n",
       "85    1970-01-01 00:01:27    -0.001395  0.000425\n",
       "86    1970-01-01 00:01:28    -0.001395 -0.001193\n",
       "87    1970-01-01 00:01:29    -0.001395 -0.000132"
      ]
     },
     "execution_count": 43,
     "metadata": {},
     "output_type": "execute_result"
    }
   ],
   "source": [
    "pred_df = test_diff.copy()\n",
    "\n",
    "train_len = len(train_diff)\n",
    "\n",
    "horizon = len(test_diff)\n",
    "\n",
    "window = 1\n",
    "\n",
    "pred_MA = rolling_forecast(df4['vib_spindle'], train_len, horizon, window)\n",
    "\n",
    "pred_df['pred_MA'] = pred_MA\n",
    "\n",
    "pred_df.head()"
   ]
  },
  {
   "cell_type": "code",
   "execution_count": 44,
   "id": "72a6eac8",
   "metadata": {},
   "outputs": [
    {
     "data": {
      "text/plain": [
       "21"
      ]
     },
     "execution_count": 44,
     "metadata": {},
     "output_type": "execute_result"
    }
   ],
   "source": [
    "len(pred_df)"
   ]
  },
  {
   "cell_type": "code",
   "execution_count": 45,
   "id": "29e28717",
   "metadata": {},
   "outputs": [
    {
     "name": "stderr",
     "output_type": "stream",
     "text": [
      "C:\\Users\\ragha\\AppData\\Local\\Temp/ipykernel_13200/991865699.py:1: DeprecationWarning: The default dtype for empty Series will be 'object' instead of 'float64' in a future version. Specify a dtype explicitly to silence this warning.\n",
      "  df3_vib_spindle_resampled['prediction_MA'] = pd.Series()\n"
     ]
    }
   ],
   "source": [
    "df3_vib_spindle_resampled['prediction_MA'] = pd.Series()\n",
    "df3_vib_spindle_resampled['prediction_MA'] [84 :] = df3_vib_spindle_resampled['vib_spindle'].iloc[84] + pred_df['pred_MA'].cumsum()   "
   ]
  },
  {
   "cell_type": "code",
   "execution_count": 46,
   "id": "84223c66",
   "metadata": {},
   "outputs": [
    {
     "data": {
      "text/plain": [
       "<matplotlib.legend.Legend at 0x1bdcfc98220>"
      ]
     },
     "execution_count": 46,
     "metadata": {},
     "output_type": "execute_result"
    },
    {
     "data": {
      "image/png": "[encoded data removed]",
      "text/plain": [
       "<Figure size 432x288 with 1 Axes>"
      ]
     },
     "metadata": {
      "needs_background": "light"
     },
     "output_type": "display_data"
    }
   ],
   "source": [
    "fig, ax = plt.subplots()\n",
    "\n",
    "ax.plot(df3_vib_spindle_resampled['vib_spindle'], 'b-', label = 'actual')\n",
    "ax.plot(df3_vib_spindle_resampled['prediction_MA'], 'k--', label = 'MA(1)')\n",
    "ax.legend()\n"
   ]
  },
  {
   "cell_type": "code",
   "execution_count": 47,
   "id": "c16c55c1",
   "metadata": {},
   "outputs": [],
   "source": [
    "from sklearn.metrics import mean_absolute_percentage_error"
   ]
  },
  {
   "cell_type": "code",
   "execution_count": 48,
   "id": "82c5bc61",
   "metadata": {},
   "outputs": [
    {
     "name": "stdout",
     "output_type": "stream",
     "text": [
      "0.011796312171518783\n"
     ]
    }
   ],
   "source": [
    "mape_MA_undiff = mean_absolute_percentage_error(df3_vib_spindle_resampled['vib_spindle'].iloc[84 :],df3_vib_spindle_resampled['prediction_MA'][84:])\n",
    "\n",
    "print(mape_MA_undiff)"
   ]
  },
  {
   "cell_type": "markdown",
   "id": "8ccf90c4",
   "metadata": {},
   "source": [
    "The mean average percentage error (MAPE) is 0.0118%, which is better performance than our baseline models. "
   ]
  },
  {
   "cell_type": "markdown",
   "id": "eac4d85f",
   "metadata": {},
   "source": [
    "We are now interested to perform anomaly detection on the dataset. vib_table seems a good candidate as the anomaly is pretty visible from the graph. Let's try to detect it algorithmically."
   ]
  },
  {
   "cell_type": "markdown",
   "id": "c65f21ca",
   "metadata": {},
   "source": [
    "Before we do that, we need to make the time series regular, just as we did before."
   ]
  },
  {
   "cell_type": "code",
   "execution_count": 49,
   "id": "026fca05",
   "metadata": {},
   "outputs": [
    {
     "data": {
      "text/html": [
       "<div>\n",
       "<style scoped>\n",
       "    .dataframe tbody tr th:only-of-type {\n",
       "        vertical-align: middle;\n",
       "    }\n",
       "\n",
       "    .dataframe tbody tr th {\n",
       "        vertical-align: top;\n",
       "    }\n",
       "\n",
       "    .dataframe thead th {\n",
       "        text-align: right;\n",
       "    }\n",
       "</style>\n",
       "<table border=\"1\" class=\"dataframe\">\n",
       "  <thead>\n",
       "    <tr style=\"text-align: right;\">\n",
       "      <th></th>\n",
       "      <th>time</th>\n",
       "      <th>vib_table</th>\n",
       "    </tr>\n",
       "  </thead>\n",
       "  <tbody>\n",
       "    <tr>\n",
       "      <th>71</th>\n",
       "      <td>1</td>\n",
       "      <td>0.070801</td>\n",
       "    </tr>\n",
       "    <tr>\n",
       "      <th>72</th>\n",
       "      <td>3</td>\n",
       "      <td>0.070801</td>\n",
       "    </tr>\n",
       "    <tr>\n",
       "      <th>73</th>\n",
       "      <td>10</td>\n",
       "      <td>0.070801</td>\n",
       "    </tr>\n",
       "    <tr>\n",
       "      <th>74</th>\n",
       "      <td>12</td>\n",
       "      <td>0.061035</td>\n",
       "    </tr>\n",
       "    <tr>\n",
       "      <th>75</th>\n",
       "      <td>14</td>\n",
       "      <td>0.065918</td>\n",
       "    </tr>\n",
       "    <tr>\n",
       "      <th>76</th>\n",
       "      <td>17</td>\n",
       "      <td>0.070801</td>\n",
       "    </tr>\n",
       "    <tr>\n",
       "      <th>77</th>\n",
       "      <td>19</td>\n",
       "      <td>0.068359</td>\n",
       "    </tr>\n",
       "    <tr>\n",
       "      <th>78</th>\n",
       "      <td>21</td>\n",
       "      <td>0.065918</td>\n",
       "    </tr>\n",
       "    <tr>\n",
       "      <th>79</th>\n",
       "      <td>27</td>\n",
       "      <td>0.063477</td>\n",
       "    </tr>\n",
       "    <tr>\n",
       "      <th>80</th>\n",
       "      <td>33</td>\n",
       "      <td>0.070801</td>\n",
       "    </tr>\n",
       "    <tr>\n",
       "      <th>81</th>\n",
       "      <td>39</td>\n",
       "      <td>0.068359</td>\n",
       "    </tr>\n",
       "    <tr>\n",
       "      <th>82</th>\n",
       "      <td>45</td>\n",
       "      <td>0.078125</td>\n",
       "    </tr>\n",
       "    <tr>\n",
       "      <th>83</th>\n",
       "      <td>51</td>\n",
       "      <td>0.078125</td>\n",
       "    </tr>\n",
       "    <tr>\n",
       "      <th>84</th>\n",
       "      <td>54</td>\n",
       "      <td>0.078125</td>\n",
       "    </tr>\n",
       "    <tr>\n",
       "      <th>85</th>\n",
       "      <td>57</td>\n",
       "      <td>0.085449</td>\n",
       "    </tr>\n",
       "    <tr>\n",
       "      <th>86</th>\n",
       "      <td>63</td>\n",
       "      <td>0.092773</td>\n",
       "    </tr>\n",
       "    <tr>\n",
       "      <th>87</th>\n",
       "      <td>67</td>\n",
       "      <td>0.085449</td>\n",
       "    </tr>\n",
       "    <tr>\n",
       "      <th>88</th>\n",
       "      <td>72</td>\n",
       "      <td>0.080566</td>\n",
       "    </tr>\n",
       "    <tr>\n",
       "      <th>89</th>\n",
       "      <td>80</td>\n",
       "      <td>0.078125</td>\n",
       "    </tr>\n",
       "    <tr>\n",
       "      <th>90</th>\n",
       "      <td>86</td>\n",
       "      <td>0.136719</td>\n",
       "    </tr>\n",
       "    <tr>\n",
       "      <th>91</th>\n",
       "      <td>93</td>\n",
       "      <td>0.083008</td>\n",
       "    </tr>\n",
       "    <tr>\n",
       "      <th>92</th>\n",
       "      <td>100</td>\n",
       "      <td>0.073242</td>\n",
       "    </tr>\n",
       "    <tr>\n",
       "      <th>93</th>\n",
       "      <td>105</td>\n",
       "      <td>0.070801</td>\n",
       "    </tr>\n",
       "  </tbody>\n",
       "</table>\n",
       "</div>"
      ],
      "text/plain": [
       "    time  vib_table\n",
       "71     1   0.070801\n",
       "72     3   0.070801\n",
       "73    10   0.070801\n",
       "74    12   0.061035\n",
       "75    14   0.065918\n",
       "76    17   0.070801\n",
       "77    19   0.068359\n",
       "78    21   0.065918\n",
       "79    27   0.063477\n",
       "80    33   0.070801\n",
       "81    39   0.068359\n",
       "82    45   0.078125\n",
       "83    51   0.078125\n",
       "84    54   0.078125\n",
       "85    57   0.085449\n",
       "86    63   0.092773\n",
       "87    67   0.085449\n",
       "88    72   0.080566\n",
       "89    80   0.078125\n",
       "90    86   0.136719\n",
       "91    93   0.083008\n",
       "92   100   0.073242\n",
       "93   105   0.070801"
      ]
     },
     "execution_count": 49,
     "metadata": {},
     "output_type": "execute_result"
    }
   ],
   "source": [
    "#Convert vib_table to a regular time series, and run anomaly detection stuff on it, for case 11\n",
    "\n",
    "df5_vib_table = df2.loc[:, ['time', 'vib_table']]\n",
    "\n",
    "df5_vib_table\n",
    "\n"
   ]
  },
  {
   "cell_type": "code",
   "execution_count": 50,
   "id": "9886be7d",
   "metadata": {},
   "outputs": [],
   "source": [
    "df5_vib_table.set_index(pd.to_datetime(df5_vib_table['time'], unit='s'), inplace=True)\n",
    "df5_vib_table.drop('time', axis=1, inplace=True)\n"
   ]
  },
  {
   "cell_type": "code",
   "execution_count": 51,
   "id": "52af09b6",
   "metadata": {},
   "outputs": [
    {
     "data": {
      "text/html": [
       "<div>\n",
       "<style scoped>\n",
       "    .dataframe tbody tr th:only-of-type {\n",
       "        vertical-align: middle;\n",
       "    }\n",
       "\n",
       "    .dataframe tbody tr th {\n",
       "        vertical-align: top;\n",
       "    }\n",
       "\n",
       "    .dataframe thead th {\n",
       "        text-align: right;\n",
       "    }\n",
       "</style>\n",
       "<table border=\"1\" class=\"dataframe\">\n",
       "  <thead>\n",
       "    <tr style=\"text-align: right;\">\n",
       "      <th></th>\n",
       "      <th>vib_table</th>\n",
       "    </tr>\n",
       "    <tr>\n",
       "      <th>time</th>\n",
       "      <th></th>\n",
       "    </tr>\n",
       "  </thead>\n",
       "  <tbody>\n",
       "    <tr>\n",
       "      <th>1970-01-01 00:00:01</th>\n",
       "      <td>0.070801</td>\n",
       "    </tr>\n",
       "    <tr>\n",
       "      <th>1970-01-01 00:00:02</th>\n",
       "      <td>0.070801</td>\n",
       "    </tr>\n",
       "    <tr>\n",
       "      <th>1970-01-01 00:00:03</th>\n",
       "      <td>0.070801</td>\n",
       "    </tr>\n",
       "    <tr>\n",
       "      <th>1970-01-01 00:00:04</th>\n",
       "      <td>0.070801</td>\n",
       "    </tr>\n",
       "    <tr>\n",
       "      <th>1970-01-01 00:00:05</th>\n",
       "      <td>0.070801</td>\n",
       "    </tr>\n",
       "    <tr>\n",
       "      <th>...</th>\n",
       "      <td>...</td>\n",
       "    </tr>\n",
       "    <tr>\n",
       "      <th>1970-01-01 00:01:41</th>\n",
       "      <td>0.072754</td>\n",
       "    </tr>\n",
       "    <tr>\n",
       "      <th>1970-01-01 00:01:42</th>\n",
       "      <td>0.072266</td>\n",
       "    </tr>\n",
       "    <tr>\n",
       "      <th>1970-01-01 00:01:43</th>\n",
       "      <td>0.071777</td>\n",
       "    </tr>\n",
       "    <tr>\n",
       "      <th>1970-01-01 00:01:44</th>\n",
       "      <td>0.071289</td>\n",
       "    </tr>\n",
       "    <tr>\n",
       "      <th>1970-01-01 00:01:45</th>\n",
       "      <td>0.070801</td>\n",
       "    </tr>\n",
       "  </tbody>\n",
       "</table>\n",
       "<p>105 rows × 1 columns</p>\n",
       "</div>"
      ],
      "text/plain": [
       "                     vib_table\n",
       "time                          \n",
       "1970-01-01 00:00:01   0.070801\n",
       "1970-01-01 00:00:02   0.070801\n",
       "1970-01-01 00:00:03   0.070801\n",
       "1970-01-01 00:00:04   0.070801\n",
       "1970-01-01 00:00:05   0.070801\n",
       "...                        ...\n",
       "1970-01-01 00:01:41   0.072754\n",
       "1970-01-01 00:01:42   0.072266\n",
       "1970-01-01 00:01:43   0.071777\n",
       "1970-01-01 00:01:44   0.071289\n",
       "1970-01-01 00:01:45   0.070801\n",
       "\n",
       "[105 rows x 1 columns]"
      ]
     },
     "execution_count": 51,
     "metadata": {},
     "output_type": "execute_result"
    }
   ],
   "source": [
    "df5_vib_table_resampled = df5_vib_table.resample('1S').interpolate(method = 'linear')\n",
    "\n",
    "df5_vib_table_resampled"
   ]
  },
  {
   "cell_type": "code",
   "execution_count": 52,
   "id": "7d3285db",
   "metadata": {},
   "outputs": [
    {
     "data": {
      "text/plain": [
       "[<matplotlib.lines.Line2D at 0x1bdd00ed400>]"
      ]
     },
     "execution_count": 52,
     "metadata": {},
     "output_type": "execute_result"
    },
    {
     "data": {
      "image/png": "[encoded data removed]",
      "text/plain": [
       "<Figure size 432x288 with 1 Axes>"
      ]
     },
     "metadata": {
      "needs_background": "light"
     },
     "output_type": "display_data"
    }
   ],
   "source": [
    "plt.plot(df5_vib_table_resampled['vib_table'] )"
   ]
  },
  {
   "cell_type": "markdown",
   "id": "32b1441a",
   "metadata": {},
   "source": [
    "One of the popular machine learning algorithms for anomaly detection is the isolation forest algorithm. Its implemented as follows:"
   ]
  },
  {
   "cell_type": "code",
   "execution_count": 53,
   "id": "6e6d8e32",
   "metadata": {},
   "outputs": [],
   "source": [
    "from sklearn.preprocessing import StandardScaler\n",
    "from sklearn.ensemble import IsolationForest"
   ]
  },
  {
   "cell_type": "code",
   "execution_count": 54,
   "id": "fc75f52a",
   "metadata": {},
   "outputs": [
    {
     "data": {
      "text/plain": [
       "IsolationForest(contamination=0.001)"
      ]
     },
     "execution_count": 54,
     "metadata": {},
     "output_type": "execute_result"
    }
   ],
   "source": [
    "outlier_fraction = float(0.001)\n",
    "scaler = StandardScaler()\n",
    "np_scaled = scaler.fit_transform(df5_vib_table_resampled['vib_table'].values.reshape(-1, 1))\n",
    "data = pd.DataFrame(np_scaled)\n",
    "\n",
    "model = IsolationForest(contamination = outlier_fraction)\n",
    "model.fit(data)"
   ]
  },
  {
   "cell_type": "markdown",
   "id": "a2416f9d",
   "metadata": {},
   "source": [
    "Plotting the results, we get"
   ]
  },
  {
   "cell_type": "code",
   "execution_count": 55,
   "id": "8f88c0af",
   "metadata": {},
   "outputs": [
    {
     "data": {
      "image/png": "[encoded data removed]",
      "text/plain": [
       "<Figure size 720x432 with 1 Axes>"
      ]
     },
     "metadata": {
      "needs_background": "light"
     },
     "output_type": "display_data"
    }
   ],
   "source": [
    "df5_vib_table_resampled['anomaly'] = model.predict(data)\n",
    "# visualization\n",
    "fig, ax = plt.subplots(figsize=(10,6))\n",
    "a = df5_vib_table_resampled.loc[df5_vib_table_resampled['anomaly'] == -1, ['vib_table']] #anomaly\n",
    "ax.plot(df5_vib_table_resampled.index, df5_vib_table_resampled['vib_table'], color='black', label = 'Normal')\n",
    "ax.scatter(a.index,a['vib_table'], color='red', label = 'Anomaly')\n",
    "plt.legend()\n",
    "plt.show();\n"
   ]
  },
  {
   "cell_type": "markdown",
   "id": "3f1b07fb",
   "metadata": {},
   "source": [
    "We can see that the Isolation Forest algorithm was successful in detecting the anomaly in the time series."
   ]
  }
 ],
 "metadata": {
  "kernelspec": {
   "display_name": "Python 3 (ipykernel)",
   "language": "python",
   "name": "python3"
  },
  "language_info": {
   "codemirror_mode": {
    "name": "ipython",
    "version": 3
   },
   "file_extension": ".py",
   "mimetype": "text/x-python",
   "name": "python",
   "nbconvert_exporter": "python",
   "pygments_lexer": "ipython3",
   "version": "3.9.7"
  }
 },
 "nbformat": 4,
 "nbformat_minor": 5
}
